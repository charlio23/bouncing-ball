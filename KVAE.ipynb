{
 "cells": [
  {
   "cell_type": "code",
   "execution_count": 5,
   "metadata": {},
   "outputs": [
    {
     "name": "stdout",
     "output_type": "stream",
     "text": [
      "The autoreload extension is already loaded. To reload it, use:\n",
      "  %reload_ext autoreload\n"
     ]
    }
   ],
   "source": [
    "%load_ext autoreload\n",
    "%autoreload 2\n",
    "from matplotlib import pyplot as plt\n",
    "import numpy as np\n",
    "import torch\n",
    "import torch.nn.functional as F\n",
    "\n",
    "from dataloaders.nascar import NascarDataLoader\n",
    "from dataloaders.bouncing_data import BouncingBallDataLoader\n",
    "from torch.utils.data import DataLoader\n",
    "from models.KalmanVAE import KalmanVAE"
   ]
  },
  {
   "cell_type": "code",
   "execution_count": 6,
   "metadata": {},
   "outputs": [
    {
     "name": "stdout",
     "output_type": "stream",
     "text": [
      "torch.Size([4, 50, 1, 32, 32])\n"
     ]
    }
   ],
   "source": [
    "dl = BouncingBallDataLoader('/data2/users/cb221/bouncing_ball_data_square_black_white_small/train')\n",
    "train_loader = DataLoader(dl, batch_size=4, shuffle=True, num_workers=4)\n",
    "obs_dim = next(iter(train_loader))[1].size(-1)\n",
    "im, y = next(iter(train_loader))\n",
    "print(im.size())"
   ]
  },
  {
   "cell_type": "code",
   "execution_count": 23,
   "metadata": {},
   "outputs": [
    {
     "name": "stdout",
     "output_type": "stream",
     "text": [
      "KalmanVAE(\n",
      "  (encoder): CNNFastEncoder(\n",
      "    (in_conv): Conv2d(1, 32, kernel_size=(3, 3), stride=(2, 2), padding=(1, 1))\n",
      "    (hidden_conv): ModuleList(\n",
      "      (0): Conv2d(32, 32, kernel_size=(3, 3), stride=(2, 2), padding=(1, 1))\n",
      "      (1): Conv2d(32, 32, kernel_size=(3, 3), stride=(2, 2), padding=(1, 1))\n",
      "    )\n",
      "    (out_mean): Linear(in_features=512, out_features=2, bias=True)\n",
      "    (out_log_var): Linear(in_features=512, out_features=2, bias=True)\n",
      "  )\n",
      "  (decoder): CNNFastDecoder(\n",
      "    (in_dec): Linear(in_features=2, out_features=512, bias=True)\n",
      "    (hidden_convs): ModuleList(\n",
      "      (0): Conv2d(32, 128, kernel_size=(3, 3), stride=(1, 1), padding=(1, 1))\n",
      "      (1): Conv2d(32, 128, kernel_size=(3, 3), stride=(1, 1), padding=(1, 1))\n",
      "      (2): Conv2d(32, 128, kernel_size=(3, 3), stride=(1, 1), padding=(1, 1))\n",
      "    )\n",
      "    (out_conv): Conv2d(32, 1, kernel_size=(3, 3), stride=(1, 1), padding=(1, 1))\n",
      "  )\n",
      "  (parameter_net): MLP(\n",
      "    (fc1): Linear(in_features=2, out_features=50, bias=True)\n",
      "    (fc2): Linear(in_features=50, out_features=50, bias=True)\n",
      "    (fc_final): Linear(in_features=50, out_features=3, bias=True)\n",
      "  )\n",
      ")\n"
     ]
    },
    {
     "data": {
      "text/plain": [
       "<All keys matched successfully>"
      ]
     },
     "execution_count": 23,
     "metadata": {},
     "output_type": "execute_result"
    }
   ],
   "source": [
    "kvae = KalmanVAE(1,128,2,4,3,1).float().cuda()\n",
    "print(kvae)\n",
    "checkpoint = torch.load('/data2/users/cb221/stored_models/KVAE_mitigate_rec_latest.pth.tar')\n",
    "kvae.load_state_dict(checkpoint['kvae'])"
   ]
  },
  {
   "cell_type": "code",
   "execution_count": 26,
   "metadata": {},
   "outputs": [],
   "source": [
    "x_hat, a_mu, _, losses = kvae((im[:,:20] > 0.5).float().cuda())"
   ]
  },
  {
   "cell_type": "code",
   "execution_count": 30,
   "metadata": {},
   "outputs": [
    {
     "data": {
      "text/plain": [
       "tensor([[[ 1.9999e+01, -1.1640e-03, -9.8865e-03, -1.9081e-03],\n",
       "         [-1.1640e-03,  1.9996e+01, -1.5081e-02, -2.4793e-03],\n",
       "         [-9.8865e-03, -1.5081e-02,  1.9869e+01, -2.5392e-02],\n",
       "         [-1.9081e-03, -2.4793e-03, -2.5392e-02,  1.9995e+01]],\n",
       "\n",
       "        [[ 8.0183e-02,  6.5117e-05, -8.4901e-05, -6.8216e-05],\n",
       "         [ 6.5117e-05,  8.0581e-02,  1.4750e-04, -1.8906e-05],\n",
       "         [-8.4901e-05,  1.4750e-04,  8.0201e-02, -6.4224e-05],\n",
       "         [-6.8216e-05, -1.8906e-05, -6.4224e-05,  8.0116e-02]],\n",
       "\n",
       "        [[ 8.0001e-02,  1.7076e-07, -4.9422e-07, -3.2760e-07],\n",
       "         [ 1.7076e-07,  8.0003e-02,  4.3984e-07,  9.5897e-08],\n",
       "         [-4.9422e-07,  4.3984e-07,  7.9999e-02, -6.8072e-07],\n",
       "         [-3.2760e-07,  9.5897e-08, -6.8072e-07,  8.0000e-02]],\n",
       "\n",
       "        [[ 8.0001e-02,  1.6729e-07, -4.9513e-07, -3.2565e-07],\n",
       "         [ 1.6729e-07,  8.0003e-02,  4.3426e-07,  9.8900e-08],\n",
       "         [-4.9513e-07,  4.3426e-07,  7.9999e-02, -6.7968e-07],\n",
       "         [-3.2565e-07,  9.8900e-08, -6.7968e-07,  8.0000e-02]],\n",
       "\n",
       "        [[ 8.0001e-02,  1.6738e-07, -4.9503e-07, -3.2558e-07],\n",
       "         [ 1.6738e-07,  8.0003e-02,  4.3410e-07,  9.9559e-08],\n",
       "         [-4.9503e-07,  4.3410e-07,  7.9999e-02, -6.7948e-07],\n",
       "         [-3.2558e-07,  9.9559e-08, -6.7948e-07,  8.0000e-02]],\n",
       "\n",
       "        [[ 8.0001e-02,  1.6751e-07, -4.9495e-07, -3.2551e-07],\n",
       "         [ 1.6751e-07,  8.0003e-02,  4.3415e-07,  1.0021e-07],\n",
       "         [-4.9495e-07,  4.3415e-07,  7.9999e-02, -6.7938e-07],\n",
       "         [-3.2551e-07,  1.0021e-07, -6.7938e-07,  8.0000e-02]],\n",
       "\n",
       "        [[ 8.0001e-02,  1.6750e-07, -4.9499e-07, -3.2550e-07],\n",
       "         [ 1.6750e-07,  8.0003e-02,  4.3391e-07,  9.9855e-08],\n",
       "         [-4.9499e-07,  4.3391e-07,  7.9999e-02, -6.7931e-07],\n",
       "         [-3.2550e-07,  9.9855e-08, -6.7931e-07,  8.0000e-02]],\n",
       "\n",
       "        [[ 8.0001e-02,  1.6758e-07, -4.9483e-07, -3.2543e-07],\n",
       "         [ 1.6758e-07,  8.0003e-02,  4.3383e-07,  1.0089e-07],\n",
       "         [-4.9483e-07,  4.3383e-07,  7.9999e-02, -6.7910e-07],\n",
       "         [-3.2543e-07,  1.0089e-07, -6.7910e-07,  8.0000e-02]],\n",
       "\n",
       "        [[ 8.0001e-02,  1.6773e-07, -4.9478e-07, -3.2533e-07],\n",
       "         [ 1.6773e-07,  8.0003e-02,  4.3361e-07,  1.0122e-07],\n",
       "         [-4.9478e-07,  4.3361e-07,  7.9999e-02, -6.7890e-07],\n",
       "         [-3.2533e-07,  1.0122e-07, -6.7890e-07,  8.0000e-02]],\n",
       "\n",
       "        [[ 8.0001e-02,  1.6783e-07, -4.9466e-07, -3.2526e-07],\n",
       "         [ 1.6783e-07,  8.0003e-02,  4.3351e-07,  1.0198e-07],\n",
       "         [-4.9466e-07,  4.3351e-07,  7.9999e-02, -6.7872e-07],\n",
       "         [-3.2526e-07,  1.0198e-07, -6.7872e-07,  8.0000e-02]],\n",
       "\n",
       "        [[ 8.0001e-02,  1.6796e-07, -4.9463e-07, -3.2519e-07],\n",
       "         [ 1.6796e-07,  8.0003e-02,  4.3354e-07,  1.0230e-07],\n",
       "         [-4.9463e-07,  4.3354e-07,  7.9999e-02, -6.7865e-07],\n",
       "         [-3.2519e-07,  1.0230e-07, -6.7865e-07,  8.0000e-02]],\n",
       "\n",
       "        [[ 8.0001e-02,  1.6791e-07, -4.9464e-07, -3.2519e-07],\n",
       "         [ 1.6791e-07,  8.0003e-02,  4.3326e-07,  1.0198e-07],\n",
       "         [-4.9464e-07,  4.3326e-07,  7.9999e-02, -6.7856e-07],\n",
       "         [-3.2519e-07,  1.0198e-07, -6.7856e-07,  8.0000e-02]],\n",
       "\n",
       "        [[ 8.0001e-02,  1.6811e-07, -4.9447e-07, -3.2505e-07],\n",
       "         [ 1.6811e-07,  8.0003e-02,  4.3305e-07,  1.0313e-07],\n",
       "         [-4.9447e-07,  4.3305e-07,  7.9999e-02, -6.7824e-07],\n",
       "         [-3.2505e-07,  1.0313e-07, -6.7824e-07,  8.0000e-02]],\n",
       "\n",
       "        [[ 8.0001e-02,  1.6826e-07, -4.9436e-07, -3.2494e-07],\n",
       "         [ 1.6826e-07,  8.0003e-02,  4.3281e-07,  1.0388e-07],\n",
       "         [-4.9436e-07,  4.3281e-07,  7.9999e-02, -6.7797e-07],\n",
       "         [-3.2494e-07,  1.0388e-07, -6.7797e-07,  8.0000e-02]],\n",
       "\n",
       "        [[ 8.0001e-02,  1.6842e-07, -4.9423e-07, -3.2483e-07],\n",
       "         [ 1.6842e-07,  8.0003e-02,  4.3268e-07,  1.0477e-07],\n",
       "         [-4.9423e-07,  4.3268e-07,  7.9999e-02, -6.7774e-07],\n",
       "         [-3.2483e-07,  1.0477e-07, -6.7774e-07,  8.0000e-02]],\n",
       "\n",
       "        [[ 8.0001e-02,  1.6854e-07, -4.9413e-07, -3.2472e-07],\n",
       "         [ 1.6854e-07,  8.0003e-02,  4.3219e-07,  1.0514e-07],\n",
       "         [-4.9413e-07,  4.3219e-07,  7.9999e-02, -6.7740e-07],\n",
       "         [-3.2472e-07,  1.0514e-07, -6.7740e-07,  8.0000e-02]],\n",
       "\n",
       "        [[ 8.0001e-02,  1.6890e-07, -4.9391e-07, -3.2451e-07],\n",
       "         [ 1.6890e-07,  8.0003e-02,  4.3219e-07,  1.0692e-07],\n",
       "         [-4.9391e-07,  4.3219e-07,  7.9999e-02, -6.7705e-07],\n",
       "         [-3.2451e-07,  1.0692e-07, -6.7705e-07,  8.0000e-02]],\n",
       "\n",
       "        [[ 8.0001e-02,  1.6890e-07, -4.9389e-07, -3.2448e-07],\n",
       "         [ 1.6890e-07,  8.0003e-02,  4.3181e-07,  1.0672e-07],\n",
       "         [-4.9389e-07,  4.3181e-07,  7.9999e-02, -6.7689e-07],\n",
       "         [-3.2448e-07,  1.0672e-07, -6.7689e-07,  8.0000e-02]],\n",
       "\n",
       "        [[ 8.0001e-02,  1.6920e-07, -4.9372e-07, -3.2429e-07],\n",
       "         [ 1.6920e-07,  8.0003e-02,  4.3168e-07,  1.0802e-07],\n",
       "         [-4.9372e-07,  4.3168e-07,  7.9999e-02, -6.7655e-07],\n",
       "         [-3.2429e-07,  1.0803e-07, -6.7655e-07,  8.0000e-02]],\n",
       "\n",
       "        [[ 8.0001e-02,  1.6928e-07, -4.9373e-07, -3.2428e-07],\n",
       "         [ 1.6928e-07,  8.0003e-02,  4.3196e-07,  1.0838e-07],\n",
       "         [-4.9373e-07,  4.3196e-07,  7.9999e-02, -6.7662e-07],\n",
       "         [-3.2428e-07,  1.0838e-07, -6.7662e-07,  8.0000e-02]]],\n",
       "       device='cuda:0', grad_fn=<SelectBackward>)"
      ]
     },
     "execution_count": 30,
     "metadata": {},
     "output_type": "execute_result"
    }
   ],
   "source": [
    "kvae._kalman_posterior(a_mu, filter_only=True)[0][1][:,0]"
   ]
  },
  {
   "cell_type": "code",
   "execution_count": 15,
   "metadata": {},
   "outputs": [
    {
     "ename": "NameError",
     "evalue": "name 'a_mu' is not defined",
     "output_type": "error",
     "traceback": [
      "\u001b[0;31m---------------------------------------------------------------------------\u001b[0m",
      "\u001b[0;31mNameError\u001b[0m                                 Traceback (most recent call last)",
      "\u001b[0;32m/tmp/ipykernel_698190/506396384.py\u001b[0m in \u001b[0;36m<module>\u001b[0;34m\u001b[0m\n\u001b[1;32m      1\u001b[0m \u001b[0;32mfor\u001b[0m \u001b[0mi\u001b[0m \u001b[0;32min\u001b[0m \u001b[0mrange\u001b[0m\u001b[0;34m(\u001b[0m\u001b[0;36m4\u001b[0m\u001b[0;34m)\u001b[0m\u001b[0;34m:\u001b[0m\u001b[0;34m\u001b[0m\u001b[0;34m\u001b[0m\u001b[0m\n\u001b[0;32m----> 2\u001b[0;31m     \u001b[0mplt\u001b[0m\u001b[0;34m.\u001b[0m\u001b[0mscatter\u001b[0m\u001b[0;34m(\u001b[0m\u001b[0ma_mu\u001b[0m\u001b[0;34m[\u001b[0m\u001b[0mi\u001b[0m\u001b[0;34m,\u001b[0m\u001b[0;34m:\u001b[0m\u001b[0;34m,\u001b[0m\u001b[0;36m0\u001b[0m\u001b[0;34m]\u001b[0m\u001b[0;34m,\u001b[0m\u001b[0ma_mu\u001b[0m\u001b[0;34m[\u001b[0m\u001b[0mi\u001b[0m\u001b[0;34m,\u001b[0m\u001b[0;34m:\u001b[0m\u001b[0;34m,\u001b[0m\u001b[0;36m1\u001b[0m\u001b[0;34m]\u001b[0m\u001b[0;34m,\u001b[0m \u001b[0ms\u001b[0m\u001b[0;34m=\u001b[0m\u001b[0;36m10\u001b[0m\u001b[0;34m)\u001b[0m\u001b[0;34m\u001b[0m\u001b[0;34m\u001b[0m\u001b[0m\n\u001b[0m",
      "\u001b[0;31mNameError\u001b[0m: name 'a_mu' is not defined"
     ]
    }
   ],
   "source": [
    "for i in range(4):\n",
    "    plt.scatter(a_mu[i,:,0],a_mu[i,:,1], s=10)"
   ]
  },
  {
   "cell_type": "code",
   "execution_count": 4,
   "metadata": {},
   "outputs": [
    {
     "name": "stdout",
     "output_type": "stream",
     "text": [
      "(100, 100)\n",
      "torch.Size([100, 100, 2])\n"
     ]
    },
    {
     "data": {
      "image/png": "[encoded data removed]",
      "text/plain": [
       "<Figure size 864x288 with 3 Axes>"
      ]
     },
     "metadata": {
      "needs_background": "light"
     },
     "output_type": "display_data"
    }
   ],
   "source": [
    "N = 100\n",
    "xlist = np.linspace(-1, 1, N)\n",
    "ylist = np.linspace(-1, 1, N)\n",
    "X, Y = np.meshgrid(xlist, ylist)\n",
    "print(X.shape)\n",
    "X_t = torch.from_numpy(X).unsqueeze(-1)\n",
    "Y_t = torch.from_numpy(Y).unsqueeze(-1)\n",
    "dom = torch.cat([X_t,Y_t], dim=-1).float()\n",
    "print(dom.size())\n",
    "Z = kvae.parameter_net(dom.reshape(-1, 2)).softmax(-1).reshape(N,N,-1).detach().numpy()\n",
    "fig = plt.figure(figsize=(12,4))\n",
    "for i in range(3):\n",
    "    ax = plt.subplot(1,3,i+1)\n",
    "    cp = ax.contourf(X, Y, Z[:,:,i])\n",
    "plt.show()"
   ]
  },
  {
   "cell_type": "code",
   "execution_count": null,
   "metadata": {},
   "outputs": [],
   "source": [
    "kvae.predict_sequence"
   ]
  }
 ],
 "metadata": {
  "interpreter": {
   "hash": "3751c93f3d1a163ef5283ae1a50ec7d205d922d5d9ba8625da05cfcdf3733a04"
  },
  "kernelspec": {
   "display_name": "Python 3.8.10 64-bit ('py38_pytorch')",
   "language": "python",
   "name": "python3"
  },
  "language_info": {
   "codemirror_mode": {
    "name": "ipython",
    "version": 3
   },
   "file_extension": ".py",
   "mimetype": "text/x-python",
   "name": "python",
   "nbconvert_exporter": "python",
   "pygments_lexer": "ipython3",
   "version": "3.8.10"
  },
  "orig_nbformat": 4
 },
 "nbformat": 4,
 "nbformat_minor": 2
}
