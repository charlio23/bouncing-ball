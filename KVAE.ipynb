{
 "cells": [
  {
   "cell_type": "code",
   "execution_count": 1,
   "metadata": {},
   "outputs": [],
   "source": [
    "%load_ext autoreload\n",
    "%autoreload 2\n",
    "from matplotlib import pyplot as plt\n",
    "import numpy as np\n",
    "import torch\n",
    "import torch.nn.functional as F\n",
    "\n",
    "from dataloaders.nascar import NascarDataLoader\n",
    "from dataloaders.bouncing_data import BouncingBallDataLoader\n",
    "from torch.utils.data import DataLoader\n",
    "from models.KalmanVAE import KalmanVAE"
   ]
  },
  {
   "cell_type": "code",
   "execution_count": 13,
   "metadata": {},
   "outputs": [
    {
     "name": "stdout",
     "output_type": "stream",
     "text": [
      "torch.Size([4, 50, 1, 32, 32])\n"
     ]
    }
   ],
   "source": [
    "dl = BouncingBallDataLoader('/data2/users/cb221/bouncing_ball_data_square_black_white_small/train')\n",
    "train_loader = DataLoader(dl, batch_size=4, shuffle=True, num_workers=4)\n",
    "obs_dim = next(iter(train_loader))[1].size(-1)\n",
    "im, y = next(iter(train_loader))\n",
    "print(im.size())"
   ]
  },
  {
   "cell_type": "code",
   "execution_count": 4,
   "metadata": {},
   "outputs": [
    {
     "name": "stdout",
     "output_type": "stream",
     "text": [
      "KalmanVAE(\n",
      "  (encoder): CNNFastEncoder(\n",
      "    (in_conv): Conv2d(1, 32, kernel_size=(3, 3), stride=(2, 2), padding=(1, 1))\n",
      "    (hidden_conv): ModuleList(\n",
      "      (0): Conv2d(32, 32, kernel_size=(3, 3), stride=(2, 2), padding=(1, 1))\n",
      "      (1): Conv2d(32, 32, kernel_size=(3, 3), stride=(2, 2), padding=(1, 1))\n",
      "    )\n",
      "    (out_mean): Linear(in_features=512, out_features=2, bias=True)\n",
      "    (out_log_var): Linear(in_features=512, out_features=2, bias=True)\n",
      "  )\n",
      "  (decoder): CNNFastDecoder(\n",
      "    (in_dec): Linear(in_features=2, out_features=512, bias=True)\n",
      "    (hidden_convs): ModuleList(\n",
      "      (0): Conv2d(32, 128, kernel_size=(3, 3), stride=(1, 1), padding=(1, 1))\n",
      "      (1): Conv2d(32, 128, kernel_size=(3, 3), stride=(1, 1), padding=(1, 1))\n",
      "      (2): Conv2d(32, 128, kernel_size=(3, 3), stride=(1, 1), padding=(1, 1))\n",
      "    )\n",
      "    (out_conv): Conv2d(32, 1, kernel_size=(3, 3), stride=(1, 1), padding=(1, 1))\n",
      "  )\n",
      "  (parameter_net): MLP(\n",
      "    (fc1): Linear(in_features=2, out_features=50, bias=True)\n",
      "    (fc2): Linear(in_features=50, out_features=50, bias=True)\n",
      "    (fc_final): Linear(in_features=50, out_features=3, bias=True)\n",
      "  )\n",
      ")\n"
     ]
    },
    {
     "data": {
      "text/plain": [
       "<All keys matched successfully>"
      ]
     },
     "execution_count": 4,
     "metadata": {},
     "output_type": "execute_result"
    }
   ],
   "source": [
    "kvae = KalmanVAE(1,128,2,4,3,1, 'mlp').float().cuda()\n",
    "print(kvae)\n",
    "checkpoint = torch.load('/data2/users/cb221/stored_models/KVAE_mlp_10_latest.pth.tar')\n",
    "kvae.load_state_dict(checkpoint['kvae'])"
   ]
  },
  {
   "cell_type": "code",
   "execution_count": 4,
   "metadata": {},
   "outputs": [
    {
     "data": {
      "text/plain": [
       "Parameter containing:\n",
       "tensor([[[ 0.0328,  0.1127, -0.0056, -0.0874],\n",
       "         [-0.1881,  0.1242,  0.0837, -0.0422]],\n",
       "\n",
       "        [[ 0.2875,  0.8736, -0.0992, -0.8872],\n",
       "         [-0.7767,  0.2962,  1.0246, -0.0198]],\n",
       "\n",
       "        [[-0.0404,  0.1722,  0.0043, -0.2528],\n",
       "         [-0.1722,  0.0124,  0.1635,  0.0253]]], device='cuda:0',\n",
       "       requires_grad=True)"
      ]
     },
     "execution_count": 4,
     "metadata": {},
     "output_type": "execute_result"
    }
   ],
   "source": [
    "kvae.C"
   ]
  },
  {
   "cell_type": "code",
   "execution_count": 18,
   "metadata": {},
   "outputs": [],
   "source": [
    "x_hat, a_mu, _, losses = kvae((im[:,:20] > 0.5).float().cuda())"
   ]
  },
  {
   "cell_type": "code",
   "execution_count": 30,
   "metadata": {},
   "outputs": [
    {
     "data": {
      "text/plain": [
       "tensor([[[ 1.9999e+01, -1.1640e-03, -9.8865e-03, -1.9081e-03],\n",
       "         [-1.1640e-03,  1.9996e+01, -1.5081e-02, -2.4793e-03],\n",
       "         [-9.8865e-03, -1.5081e-02,  1.9869e+01, -2.5392e-02],\n",
       "         [-1.9081e-03, -2.4793e-03, -2.5392e-02,  1.9995e+01]],\n",
       "\n",
       "        [[ 8.0183e-02,  6.5117e-05, -8.4901e-05, -6.8216e-05],\n",
       "         [ 6.5117e-05,  8.0581e-02,  1.4750e-04, -1.8906e-05],\n",
       "         [-8.4901e-05,  1.4750e-04,  8.0201e-02, -6.4224e-05],\n",
       "         [-6.8216e-05, -1.8906e-05, -6.4224e-05,  8.0116e-02]],\n",
       "\n",
       "        [[ 8.0001e-02,  1.7076e-07, -4.9422e-07, -3.2760e-07],\n",
       "         [ 1.7076e-07,  8.0003e-02,  4.3984e-07,  9.5897e-08],\n",
       "         [-4.9422e-07,  4.3984e-07,  7.9999e-02, -6.8072e-07],\n",
       "         [-3.2760e-07,  9.5897e-08, -6.8072e-07,  8.0000e-02]],\n",
       "\n",
       "        [[ 8.0001e-02,  1.6729e-07, -4.9513e-07, -3.2565e-07],\n",
       "         [ 1.6729e-07,  8.0003e-02,  4.3426e-07,  9.8900e-08],\n",
       "         [-4.9513e-07,  4.3426e-07,  7.9999e-02, -6.7968e-07],\n",
       "         [-3.2565e-07,  9.8900e-08, -6.7968e-07,  8.0000e-02]],\n",
       "\n",
       "        [[ 8.0001e-02,  1.6738e-07, -4.9503e-07, -3.2558e-07],\n",
       "         [ 1.6738e-07,  8.0003e-02,  4.3410e-07,  9.9559e-08],\n",
       "         [-4.9503e-07,  4.3410e-07,  7.9999e-02, -6.7948e-07],\n",
       "         [-3.2558e-07,  9.9559e-08, -6.7948e-07,  8.0000e-02]],\n",
       "\n",
       "        [[ 8.0001e-02,  1.6751e-07, -4.9495e-07, -3.2551e-07],\n",
       "         [ 1.6751e-07,  8.0003e-02,  4.3415e-07,  1.0021e-07],\n",
       "         [-4.9495e-07,  4.3415e-07,  7.9999e-02, -6.7938e-07],\n",
       "         [-3.2551e-07,  1.0021e-07, -6.7938e-07,  8.0000e-02]],\n",
       "\n",
       "        [[ 8.0001e-02,  1.6750e-07, -4.9499e-07, -3.2550e-07],\n",
       "         [ 1.6750e-07,  8.0003e-02,  4.3391e-07,  9.9855e-08],\n",
       "         [-4.9499e-07,  4.3391e-07,  7.9999e-02, -6.7931e-07],\n",
       "         [-3.2550e-07,  9.9855e-08, -6.7931e-07,  8.0000e-02]],\n",
       "\n",
       "        [[ 8.0001e-02,  1.6758e-07, -4.9483e-07, -3.2543e-07],\n",
       "         [ 1.6758e-07,  8.0003e-02,  4.3383e-07,  1.0089e-07],\n",
       "         [-4.9483e-07,  4.3383e-07,  7.9999e-02, -6.7910e-07],\n",
       "         [-3.2543e-07,  1.0089e-07, -6.7910e-07,  8.0000e-02]],\n",
       "\n",
       "        [[ 8.0001e-02,  1.6773e-07, -4.9478e-07, -3.2533e-07],\n",
       "         [ 1.6773e-07,  8.0003e-02,  4.3361e-07,  1.0122e-07],\n",
       "         [-4.9478e-07,  4.3361e-07,  7.9999e-02, -6.7890e-07],\n",
       "         [-3.2533e-07,  1.0122e-07, -6.7890e-07,  8.0000e-02]],\n",
       "\n",
       "        [[ 8.0001e-02,  1.6783e-07, -4.9466e-07, -3.2526e-07],\n",
       "         [ 1.6783e-07,  8.0003e-02,  4.3351e-07,  1.0198e-07],\n",
       "         [-4.9466e-07,  4.3351e-07,  7.9999e-02, -6.7872e-07],\n",
       "         [-3.2526e-07,  1.0198e-07, -6.7872e-07,  8.0000e-02]],\n",
       "\n",
       "        [[ 8.0001e-02,  1.6796e-07, -4.9463e-07, -3.2519e-07],\n",
       "         [ 1.6796e-07,  8.0003e-02,  4.3354e-07,  1.0230e-07],\n",
       "         [-4.9463e-07,  4.3354e-07,  7.9999e-02, -6.7865e-07],\n",
       "         [-3.2519e-07,  1.0230e-07, -6.7865e-07,  8.0000e-02]],\n",
       "\n",
       "        [[ 8.0001e-02,  1.6791e-07, -4.9464e-07, -3.2519e-07],\n",
       "         [ 1.6791e-07,  8.0003e-02,  4.3326e-07,  1.0198e-07],\n",
       "         [-4.9464e-07,  4.3326e-07,  7.9999e-02, -6.7856e-07],\n",
       "         [-3.2519e-07,  1.0198e-07, -6.7856e-07,  8.0000e-02]],\n",
       "\n",
       "        [[ 8.0001e-02,  1.6811e-07, -4.9447e-07, -3.2505e-07],\n",
       "         [ 1.6811e-07,  8.0003e-02,  4.3305e-07,  1.0313e-07],\n",
       "         [-4.9447e-07,  4.3305e-07,  7.9999e-02, -6.7824e-07],\n",
       "         [-3.2505e-07,  1.0313e-07, -6.7824e-07,  8.0000e-02]],\n",
       "\n",
       "        [[ 8.0001e-02,  1.6826e-07, -4.9436e-07, -3.2494e-07],\n",
       "         [ 1.6826e-07,  8.0003e-02,  4.3281e-07,  1.0388e-07],\n",
       "         [-4.9436e-07,  4.3281e-07,  7.9999e-02, -6.7797e-07],\n",
       "         [-3.2494e-07,  1.0388e-07, -6.7797e-07,  8.0000e-02]],\n",
       "\n",
       "        [[ 8.0001e-02,  1.6842e-07, -4.9423e-07, -3.2483e-07],\n",
       "         [ 1.6842e-07,  8.0003e-02,  4.3268e-07,  1.0477e-07],\n",
       "         [-4.9423e-07,  4.3268e-07,  7.9999e-02, -6.7774e-07],\n",
       "         [-3.2483e-07,  1.0477e-07, -6.7774e-07,  8.0000e-02]],\n",
       "\n",
       "        [[ 8.0001e-02,  1.6854e-07, -4.9413e-07, -3.2472e-07],\n",
       "         [ 1.6854e-07,  8.0003e-02,  4.3219e-07,  1.0514e-07],\n",
       "         [-4.9413e-07,  4.3219e-07,  7.9999e-02, -6.7740e-07],\n",
       "         [-3.2472e-07,  1.0514e-07, -6.7740e-07,  8.0000e-02]],\n",
       "\n",
       "        [[ 8.0001e-02,  1.6890e-07, -4.9391e-07, -3.2451e-07],\n",
       "         [ 1.6890e-07,  8.0003e-02,  4.3219e-07,  1.0692e-07],\n",
       "         [-4.9391e-07,  4.3219e-07,  7.9999e-02, -6.7705e-07],\n",
       "         [-3.2451e-07,  1.0692e-07, -6.7705e-07,  8.0000e-02]],\n",
       "\n",
       "        [[ 8.0001e-02,  1.6890e-07, -4.9389e-07, -3.2448e-07],\n",
       "         [ 1.6890e-07,  8.0003e-02,  4.3181e-07,  1.0672e-07],\n",
       "         [-4.9389e-07,  4.3181e-07,  7.9999e-02, -6.7689e-07],\n",
       "         [-3.2448e-07,  1.0672e-07, -6.7689e-07,  8.0000e-02]],\n",
       "\n",
       "        [[ 8.0001e-02,  1.6920e-07, -4.9372e-07, -3.2429e-07],\n",
       "         [ 1.6920e-07,  8.0003e-02,  4.3168e-07,  1.0802e-07],\n",
       "         [-4.9372e-07,  4.3168e-07,  7.9999e-02, -6.7655e-07],\n",
       "         [-3.2429e-07,  1.0803e-07, -6.7655e-07,  8.0000e-02]],\n",
       "\n",
       "        [[ 8.0001e-02,  1.6928e-07, -4.9373e-07, -3.2428e-07],\n",
       "         [ 1.6928e-07,  8.0003e-02,  4.3196e-07,  1.0838e-07],\n",
       "         [-4.9373e-07,  4.3196e-07,  7.9999e-02, -6.7662e-07],\n",
       "         [-3.2428e-07,  1.0838e-07, -6.7662e-07,  8.0000e-02]]],\n",
       "       device='cuda:0', grad_fn=<SelectBackward>)"
      ]
     },
     "execution_count": 30,
     "metadata": {},
     "output_type": "execute_result"
    }
   ],
   "source": [
    "kvae._kalman_posterior(a_mu, filter_only=True)[0][1][:,0]"
   ]
  },
  {
   "cell_type": "code",
   "execution_count": 15,
   "metadata": {},
   "outputs": [
    {
     "ename": "NameError",
     "evalue": "name 'a_mu' is not defined",
     "output_type": "error",
     "traceback": [
      "\u001b[0;31m---------------------------------------------------------------------------\u001b[0m",
      "\u001b[0;31mNameError\u001b[0m                                 Traceback (most recent call last)",
      "\u001b[0;32m/tmp/ipykernel_698190/506396384.py\u001b[0m in \u001b[0;36m<module>\u001b[0;34m\u001b[0m\n\u001b[1;32m      1\u001b[0m \u001b[0;32mfor\u001b[0m \u001b[0mi\u001b[0m \u001b[0;32min\u001b[0m \u001b[0mrange\u001b[0m\u001b[0;34m(\u001b[0m\u001b[0;36m4\u001b[0m\u001b[0;34m)\u001b[0m\u001b[0;34m:\u001b[0m\u001b[0;34m\u001b[0m\u001b[0;34m\u001b[0m\u001b[0m\n\u001b[0;32m----> 2\u001b[0;31m     \u001b[0mplt\u001b[0m\u001b[0;34m.\u001b[0m\u001b[0mscatter\u001b[0m\u001b[0;34m(\u001b[0m\u001b[0ma_mu\u001b[0m\u001b[0;34m[\u001b[0m\u001b[0mi\u001b[0m\u001b[0;34m,\u001b[0m\u001b[0;34m:\u001b[0m\u001b[0;34m,\u001b[0m\u001b[0;36m0\u001b[0m\u001b[0;34m]\u001b[0m\u001b[0;34m,\u001b[0m\u001b[0ma_mu\u001b[0m\u001b[0;34m[\u001b[0m\u001b[0mi\u001b[0m\u001b[0;34m,\u001b[0m\u001b[0;34m:\u001b[0m\u001b[0;34m,\u001b[0m\u001b[0;36m1\u001b[0m\u001b[0;34m]\u001b[0m\u001b[0;34m,\u001b[0m \u001b[0ms\u001b[0m\u001b[0;34m=\u001b[0m\u001b[0;36m10\u001b[0m\u001b[0;34m)\u001b[0m\u001b[0;34m\u001b[0m\u001b[0;34m\u001b[0m\u001b[0m\n\u001b[0m",
      "\u001b[0;31mNameError\u001b[0m: name 'a_mu' is not defined"
     ]
    }
   ],
   "source": [
    "for i in range(4):\n",
    "    plt.scatter(a_mu[i,:,0],a_mu[i,:,1], s=10)"
   ]
  },
  {
   "cell_type": "code",
   "execution_count": 11,
   "metadata": {},
   "outputs": [
    {
     "name": "stdout",
     "output_type": "stream",
     "text": [
      "(100, 100)\n",
      "torch.Size([100, 100, 2])\n"
     ]
    },
    {
     "data": {
      "image/png": "[encoded data removed]",
      "text/plain": [
       "<Figure size 864x288 with 3 Axes>"
      ]
     },
     "metadata": {
      "needs_background": "light"
     },
     "output_type": "display_data"
    }
   ],
   "source": [
    "N = 100\n",
    "xlist = np.linspace(-30, 30, N)\n",
    "ylist = np.linspace(-30, 30, N)\n",
    "X, Y = np.meshgrid(xlist, ylist)\n",
    "print(X.shape)\n",
    "X_t = torch.from_numpy(X).unsqueeze(-1)\n",
    "Y_t = torch.from_numpy(Y).unsqueeze(-1)\n",
    "dom = torch.cat([X_t,Y_t], dim=-1).float()\n",
    "print(dom.size())\n",
    "#out, (h, c) = kvae.cpu().parameter_net(dom.reshape(-1, 2))\n",
    "#Z = kvae.cpu().alpha_out(out)\n",
    "Z = kvae.cpu().parameter_net(dom.reshape(-1,2))\n",
    "Z = Z.softmax(-1).reshape(N,N,-1).detach().numpy()\n",
    "fig = plt.figure(figsize=(12,4))\n",
    "for i in range(3):\n",
    "    ax = plt.subplot(1,3,i+1)\n",
    "    cp = ax.contourf(X, Y, Z[:,:,i])\n",
    "plt.show()"
   ]
  },
  {
   "cell_type": "code",
   "execution_count": 107,
   "metadata": {},
   "outputs": [
    {
     "name": "stdout",
     "output_type": "stream",
     "text": [
      "torch.Size([15, 32, 4, 4])\n",
      "torch.Size([15, 32, 2])\n",
      "torch.Size([32, 15, 4, 4])\n",
      "torch.Size([32, 15, 2, 4])\n"
     ]
    }
   ],
   "source": [
    "smoothed_cov = torch.from_numpy(np.load('error_cov.npy'))\n",
    "obs = torch.from_numpy(np.load('error_obs.npy'))\n",
    "A_t = torch.from_numpy(np.load('error_A.npy'))\n",
    "C_t = torch.from_numpy(np.load('error_C.npy'))\n",
    "\n",
    "print(smoothed_cov.size())\n",
    "print(obs.size())\n",
    "print(A_t.size())\n",
    "print(C_t.size())"
   ]
  },
  {
   "cell_type": "code",
   "execution_count": 219,
   "metadata": {},
   "outputs": [],
   "source": [
    "filt, pred = kvae._filter_posterior(obs.cuda(),A_t.cuda(),C_t.cuda())\n",
    "smoooth = kvae._smooth_posterior(A_t.cuda(), filt, pred)"
   ]
  },
  {
   "cell_type": "code",
   "execution_count": 140,
   "metadata": {},
   "outputs": [],
   "source": [
    "J_1 = torch.matmul(filt[1][0], torch.matmul(torch.transpose(A_t.cuda()[:,1,:,:], 1,2), torch.inverse(pred[1][1])))\n",
    "cov_diff = smoooth[1][1] - pred[1][1]\n",
    "Sigma_z_smooth = filt[1][0] + torch.matmul(torch.matmul(J_1, cov_diff), torch.transpose(J_1, 1, 2))"
   ]
  },
  {
   "cell_type": "code",
   "execution_count": 144,
   "metadata": {},
   "outputs": [
    {
     "data": {
      "text/plain": [
       "tensor([ 6.7936e-14,  7.2272e-13, -1.6205e-13,  3.8666e-13, -2.8194e-13,\n",
       "         2.0321e-13,  1.1370e-14,  1.9989e-14,  2.0848e-14, -3.3995e-13,\n",
       "         6.4666e-13,  1.1627e-12,  1.0046e-12, -1.0123e-13,  6.4682e-14,\n",
       "         3.1719e-13, -5.2356e-14,  7.3552e-14,  9.8452e-14,  1.4282e-13,\n",
       "        -1.3810e-12, -8.5712e-13,  3.0987e-15,  9.8346e-15, -3.0986e-13,\n",
       "         1.2038e-13,  9.0789e-14,  1.5789e-12, -7.6681e-16,  4.4069e-14,\n",
       "        -1.7167e-13, -9.9177e-13], device='cuda:0')"
      ]
     },
     "execution_count": 144,
     "metadata": {},
     "output_type": "execute_result"
    }
   ],
   "source": [
    "torch.linalg.det(torch.matmul(torch.matmul(J_1, cov_diff), torch.transpose(J_1, 1, 2)))"
   ]
  },
  {
   "cell_type": "code",
   "execution_count": 177,
   "metadata": {},
   "outputs": [
    {
     "name": "stdout",
     "output_type": "stream",
     "text": [
      "torch.Size([15, 32, 4, 4])\n"
     ]
    }
   ],
   "source": [
    "print(smoothed_cov.size())"
   ]
  },
  {
   "cell_type": "code",
   "execution_count": 173,
   "metadata": {},
   "outputs": [
    {
     "data": {
      "text/plain": [
       "tensor([[ 8.4261e-02,  1.3020e-01,  1.0776e-01,  1.3414e-01,  6.8624e-02,\n",
       "         -5.1022e-02, -3.2011e-02,  1.2107e-01,  1.1170e-01,  8.3822e-02,\n",
       "          1.0674e-01,  1.3975e-01, -9.5017e-03,  9.0250e-02,  1.2946e-01,\n",
       "          1.3983e-01,  6.2776e-03,  1.1564e-01,  1.0446e-01,  1.0633e-01,\n",
       "         -4.1433e-02,  1.1212e-01,  1.2913e-01,  1.0123e-01,  1.1577e-01,\n",
       "          1.2884e-01,  8.9662e-02,  6.8581e-02,  1.2133e-01,  2.6646e-02,\n",
       "          1.2477e-01,  1.2086e-01],\n",
       "        [ 2.9150e-06,  5.0908e-06,  4.0706e-06,  5.1393e-06,  2.5899e-06,\n",
       "          1.0816e-06,  1.1154e-06,  4.0238e-06,  3.6983e-06,  2.9920e-06,\n",
       "          3.9685e-06,  5.5779e-06,  1.2712e-06,  2.8855e-06,  4.9093e-06,\n",
       "          5.5286e-06,  1.5656e-06,  4.0713e-06,  3.4668e-06,  3.9167e-06,\n",
       "          1.1089e-06,  3.0406e-06,  4.5385e-06,  3.1251e-06,  4.1384e-06,\n",
       "          4.4823e-06,  3.1829e-06,  2.5970e-06,  3.7788e-06,  1.6489e-06,\n",
       "          4.6784e-06,  4.4080e-06],\n",
       "        [ 2.6893e-06,  4.2875e-06,  3.4926e-06,  4.0382e-06,  2.0790e-06,\n",
       "          1.0922e-06,  9.3177e-07,  3.7213e-06,  2.7650e-06,  2.6719e-06,\n",
       "          3.1912e-06,  4.6479e-06,  1.0535e-06,  2.6041e-06,  4.2141e-06,\n",
       "          4.7903e-06,  1.8113e-06,  4.0789e-06,  2.8907e-06,  3.2021e-06,\n",
       "          8.9333e-07,  2.4791e-06,  4.0590e-06,  2.4742e-06,  3.7964e-06,\n",
       "          3.7070e-06,  2.3527e-06,  2.1241e-06,  3.5339e-06,  1.3857e-06,\n",
       "          3.8318e-06,  3.4493e-06],\n",
       "        [ 2.7086e-06,  3.9501e-06,  3.5923e-06,  3.6768e-06,  2.2547e-06,\n",
       "          1.1271e-06,  8.7471e-07,  4.0064e-06,  2.1395e-06,  2.4878e-06,\n",
       "          3.0619e-06,  4.4086e-06,  9.7597e-07,  2.5475e-06,  4.0470e-06,\n",
       "          4.6702e-06,  2.4773e-06,  4.4736e-06,  2.4961e-06,  2.6925e-06,\n",
       "          8.5400e-07,  2.0954e-06,  3.8432e-06,  2.4278e-06,  4.3284e-06,\n",
       "          3.4253e-06,  2.1708e-06,  1.9800e-06,  3.5289e-06,  1.4214e-06,\n",
       "          3.1746e-06,  2.9931e-06],\n",
       "        [ 2.9834e-06,  3.6761e-06,  3.6969e-06,  3.2449e-06,  1.7528e-06,\n",
       "          1.0095e-06,  8.5949e-07,  4.2911e-06,  2.0045e-06,  2.6111e-06,\n",
       "          2.7236e-06,  4.1004e-06,  9.5543e-07,  2.4400e-06,  4.0021e-06,\n",
       "          4.7399e-06,  3.3213e-06,  4.1449e-06,  2.3060e-06,  2.6121e-06,\n",
       "          8.3404e-07,  1.7036e-06,  3.3167e-06,  2.3552e-06,  4.7314e-06,\n",
       "          3.1062e-06,  2.0513e-06,  2.0209e-06,  3.3855e-06,  1.2073e-06,\n",
       "          3.0179e-06,  2.6284e-06],\n",
       "        [ 2.9555e-06,  3.1995e-06,  3.6032e-06,  3.0376e-06,  1.6928e-06,\n",
       "          1.0866e-06,  8.4058e-07,  4.5674e-06,  1.7971e-06,  2.6250e-06,\n",
       "          2.4625e-06,  4.1815e-06,  9.2400e-07,  2.8468e-06,  4.0513e-06,\n",
       "          4.7736e-06,  3.9318e-06,  3.7082e-06,  2.4777e-06,  2.2985e-06,\n",
       "          8.1436e-07,  1.3980e-06,  3.2812e-06,  2.1754e-06,  4.7363e-06,\n",
       "          2.8119e-06,  1.8555e-06,  2.1862e-06,  2.9059e-06,  1.1757e-06,\n",
       "          2.6636e-06,  2.3738e-06],\n",
       "        [ 3.0332e-06,  2.9474e-06,  4.1914e-06,  2.7156e-06,  1.6467e-06,\n",
       "          1.0930e-06,  8.8514e-07,  4.4925e-06,  1.5182e-06,  2.5913e-06,\n",
       "          2.2579e-06,  3.6838e-06,  9.1639e-07,  2.6629e-06,  4.0363e-06,\n",
       "          4.7379e-06,  4.2968e-06,  2.9395e-06,  2.2355e-06,  2.2179e-06,\n",
       "          8.1192e-07,  1.1704e-06,  3.2146e-06,  2.0847e-06,  4.3630e-06,\n",
       "          2.8492e-06,  1.8955e-06,  2.1232e-06,  2.2869e-06,  1.1395e-06,\n",
       "          2.3017e-06,  2.0656e-06],\n",
       "        [ 3.2994e-06,  2.7444e-06,  4.0482e-06,  2.6923e-06,  1.5011e-06,\n",
       "          1.3038e-06,  8.8517e-07,  4.0180e-06,  1.3922e-06,  2.3760e-06,\n",
       "          2.0264e-06,  3.2857e-06,  8.7610e-07,  2.6683e-06,  4.0820e-06,\n",
       "          4.8077e-06,  4.2531e-06,  2.3764e-06,  1.9488e-06,  1.8901e-06,\n",
       "          8.1909e-07,  1.1128e-06,  2.8633e-06,  1.9716e-06,  3.8916e-06,\n",
       "          3.4600e-06,  1.6775e-06,  2.1443e-06,  1.5124e-06,  1.0849e-06,\n",
       "          2.0308e-06,  1.7308e-06],\n",
       "        [ 3.0713e-06,  2.6547e-06,  3.8249e-06,  2.5872e-06,  1.5882e-06,\n",
       "          1.3808e-06,  9.3645e-07,  2.8962e-06,  1.3120e-06,  2.0953e-06,\n",
       "          1.8324e-06,  2.8513e-06,  8.5900e-07,  2.4181e-06,  4.0896e-06,\n",
       "          4.7644e-06,  3.6688e-06,  2.0048e-06,  1.8076e-06,  1.6735e-06,\n",
       "          8.4890e-07,  9.7110e-07,  3.0375e-06,  1.8402e-06,  3.3850e-06,\n",
       "          3.5703e-06,  1.5977e-06,  2.2278e-06,  1.2842e-06,  1.0308e-06,\n",
       "          1.6607e-06,  1.4984e-06],\n",
       "        [ 3.4977e-06,  2.1274e-06,  3.6870e-06,  2.7605e-06,  1.7812e-06,\n",
       "          1.4231e-06,  9.2800e-07,  2.6327e-06,  1.2458e-06,  1.8044e-06,\n",
       "          1.7225e-06,  2.2586e-06,  8.4934e-07,  2.5422e-06,  4.0943e-06,\n",
       "          4.8793e-06,  3.2012e-06,  1.6378e-06,  1.7547e-06,  1.6894e-06,\n",
       "          9.1749e-07,  8.7680e-07,  3.0832e-06,  1.6702e-06,  2.8378e-06,\n",
       "          3.5979e-06,  1.5997e-06,  2.3272e-06,  9.9155e-07,  9.6561e-07,\n",
       "          1.5151e-06,  1.2556e-06],\n",
       "        [ 3.7102e-06,  1.7360e-06,  3.5906e-06,  3.2739e-06,  1.8049e-06,\n",
       "          1.6180e-06,  1.0404e-06,  2.5233e-06,  1.1892e-06,  1.5688e-06,\n",
       "          1.7633e-06,  1.9389e-06,  8.3396e-07,  2.3410e-06,  4.0861e-06,\n",
       "          4.9158e-06,  2.1349e-06,  1.2940e-06,  1.6620e-06,  1.3729e-06,\n",
       "          9.9452e-07,  8.7687e-07,  3.4247e-06,  1.6716e-06,  2.4823e-06,\n",
       "          3.7721e-06,  1.4113e-06,  2.2314e-06,  9.3969e-07,  9.6841e-07,\n",
       "          1.3201e-06,  1.1089e-06],\n",
       "        [ 3.8234e-06,  1.8960e-06,  3.3453e-06,  3.6637e-06,  1.8350e-06,\n",
       "          1.8276e-06,  1.0571e-06,  2.4411e-06,  1.2488e-06,  1.2764e-06,\n",
       "          1.6373e-06,  1.6437e-06,  8.4865e-07,  2.1910e-06,  4.1200e-06,\n",
       "          4.9516e-06,  1.9851e-06,  1.1660e-06,  1.5786e-06,  1.3715e-06,\n",
       "          1.3331e-06,  8.7932e-07,  3.4733e-06,  1.6672e-06,  1.9651e-06,\n",
       "          3.9315e-06,  1.2894e-06,  2.1852e-06,  8.7300e-07,  9.2635e-07,\n",
       "          1.2248e-06,  1.0308e-06],\n",
       "        [ 3.9220e-06,  1.8836e-06,  3.0658e-06,  4.1292e-06,  2.0406e-06,\n",
       "          2.1683e-06,  1.1308e-06,  2.2872e-06,  1.3315e-06,  1.2405e-06,\n",
       "          1.5266e-06,  1.5186e-06,  8.6485e-07,  2.3311e-06,  4.1353e-06,\n",
       "          5.1294e-06,  1.7209e-06,  9.4296e-07,  1.4862e-06,  1.2263e-06,\n",
       "          1.2999e-06,  9.1058e-07,  3.6986e-06,  1.4885e-06,  1.7661e-06,\n",
       "          3.8579e-06,  1.2712e-06,  2.1399e-06,  8.1694e-07,  9.2044e-07,\n",
       "          1.0798e-06,  9.3411e-07],\n",
       "        [ 4.5409e-06,  2.1980e-06,  3.2473e-06,  4.9106e-06,  2.1877e-06,\n",
       "          2.3954e-06,  1.2023e-06,  2.1836e-06,  1.4225e-06,  1.0815e-06,\n",
       "          1.5288e-06,  1.3530e-06,  8.7678e-07,  2.2245e-06,  4.3963e-06,\n",
       "          5.7245e-06,  1.5279e-06,  8.9456e-07,  1.4050e-06,  1.0672e-06,\n",
       "          1.7232e-06,  9.2934e-07,  3.9269e-06,  1.3992e-06,  1.6795e-06,\n",
       "          4.4254e-06,  1.3749e-06,  1.9460e-06,  8.0929e-07,  9.0158e-07,\n",
       "          1.0302e-06,  8.6164e-07],\n",
       "        [ 7.1195e-06,  3.4282e-06,  4.2936e-06,  8.1998e-06,  3.6260e-06,\n",
       "          3.6073e-06,  1.7724e-06,  2.7523e-06,  2.1473e-06,  1.3750e-06,\n",
       "          2.4007e-06,  1.8458e-06,  1.2162e-06,  3.3576e-06,  7.2351e-06,\n",
       "          8.9874e-06,  2.0016e-06,  1.1067e-06,  2.1503e-06,  1.3212e-06,\n",
       "          2.6925e-06,  1.4100e-06,  6.3301e-06,  1.9672e-06,  2.0100e-06,\n",
       "          7.2781e-06,  1.7883e-06,  2.6547e-06,  1.0636e-06,  1.1634e-06,\n",
       "          1.2522e-06,  1.1545e-06]])"
      ]
     },
     "execution_count": 173,
     "metadata": {},
     "output_type": "execute_result"
    }
   ],
   "source": [
    "torch.linalg.det(smoothed_cov[:,:])"
   ]
  },
  {
   "cell_type": "code",
   "execution_count": 90,
   "metadata": {},
   "outputs": [
    {
     "data": {
      "text/plain": [
       "tensor(-0.0077)"
      ]
     },
     "execution_count": 90,
     "metadata": {},
     "output_type": "execute_result"
    }
   ],
   "source": [
    "torch.linalg.det(smoothed_cov[0,27] + torch.eye(4)*1e-3)"
   ]
  },
  {
   "cell_type": "code",
   "execution_count": 128,
   "metadata": {},
   "outputs": [
    {
     "ename": "RuntimeError",
     "evalue": "torch.linalg.cholesky: For batch 11: U(2,2) is zero, singular U.",
     "output_type": "error",
     "traceback": [
      "\u001b[0;31m---------------------------------------------------------------------------\u001b[0m",
      "\u001b[0;31mRuntimeError\u001b[0m                              Traceback (most recent call last)",
      "\u001b[0;32m/tmp/ipykernel_1039222/740609702.py\u001b[0m in \u001b[0;36m<module>\u001b[0;34m\u001b[0m\n\u001b[1;32m      1\u001b[0m \u001b[0msmoothed_cov1\u001b[0m \u001b[0;34m=\u001b[0m \u001b[0mtorch\u001b[0m\u001b[0;34m.\u001b[0m\u001b[0mfrom_numpy\u001b[0m\u001b[0;34m(\u001b[0m\u001b[0mnp\u001b[0m\u001b[0;34m.\u001b[0m\u001b[0mload\u001b[0m\u001b[0;34m(\u001b[0m\u001b[0;34m'error_cov.npy'\u001b[0m\u001b[0;34m)\u001b[0m\u001b[0;34m)\u001b[0m\u001b[0;34m\u001b[0m\u001b[0;34m\u001b[0m\u001b[0m\n\u001b[1;32m      2\u001b[0m smoothed_z = torch.distributions.MultivariateNormal(torch.zeros(20,32,10,1)[1:].squeeze(-1), \n\u001b[0;32m----> 3\u001b[0;31m                         scale_tril=torch.linalg.cholesky((smoothed_cov1)[1:]))\n\u001b[0m",
      "\u001b[0;31mRuntimeError\u001b[0m: torch.linalg.cholesky: For batch 11: U(2,2) is zero, singular U."
     ]
    }
   ],
   "source": [
    "smoothed_cov1 = torch.from_numpy(np.load('error_cov.npy'))\n",
    "smoothed_z = torch.distributions.MultivariateNormal(torch.zeros(20,32,10,1)[1:].squeeze(-1), \n",
    "                        scale_tril=torch.linalg.cholesky((smoothed_cov1)[1:]))"
   ]
  },
  {
   "cell_type": "code",
   "execution_count": 117,
   "metadata": {},
   "outputs": [
    {
     "name": "stdout",
     "output_type": "stream",
     "text": [
      "torch.Size([20, 32, 4, 4])\n"
     ]
    }
   ],
   "source": []
  },
  {
   "cell_type": "code",
   "execution_count": 129,
   "metadata": {},
   "outputs": [
    {
     "name": "stdout",
     "output_type": "stream",
     "text": [
      "1 0\n",
      "1 1\n",
      "1 2\n",
      "1 3\n",
      "1 4\n",
      "1 5\n",
      "1 6\n",
      "1 7\n",
      "1 8\n",
      "1 9\n",
      "1 10\n",
      "1 11\n"
     ]
    },
    {
     "ename": "RuntimeError",
     "evalue": "torch.linalg.cholesky: U(2,2) is zero, singular U.",
     "output_type": "error",
     "traceback": [
      "\u001b[0;31m---------------------------------------------------------------------------\u001b[0m",
      "\u001b[0;31mRuntimeError\u001b[0m                              Traceback (most recent call last)",
      "\u001b[0;32m/tmp/ipykernel_1039222/264545150.py\u001b[0m in \u001b[0;36m<module>\u001b[0;34m\u001b[0m\n\u001b[1;32m      3\u001b[0m         \u001b[0;32mfor\u001b[0m \u001b[0mj\u001b[0m \u001b[0;32min\u001b[0m \u001b[0mrange\u001b[0m\u001b[0;34m(\u001b[0m\u001b[0;36m32\u001b[0m\u001b[0;34m)\u001b[0m\u001b[0;34m:\u001b[0m\u001b[0;34m\u001b[0m\u001b[0;34m\u001b[0m\u001b[0m\n\u001b[1;32m      4\u001b[0m             \u001b[0mprint\u001b[0m\u001b[0;34m(\u001b[0m\u001b[0mi\u001b[0m\u001b[0;34m,\u001b[0m\u001b[0mj\u001b[0m\u001b[0;34m)\u001b[0m\u001b[0;34m\u001b[0m\u001b[0;34m\u001b[0m\u001b[0m\n\u001b[0;32m----> 5\u001b[0;31m             \u001b[0mtorch\u001b[0m\u001b[0;34m.\u001b[0m\u001b[0mlinalg\u001b[0m\u001b[0;34m.\u001b[0m\u001b[0mcholesky\u001b[0m\u001b[0;34m(\u001b[0m\u001b[0msmoothed_cov1\u001b[0m\u001b[0;34m[\u001b[0m\u001b[0mi\u001b[0m\u001b[0;34m,\u001b[0m\u001b[0mj\u001b[0m\u001b[0;34m]\u001b[0m\u001b[0;34m)\u001b[0m\u001b[0;34m\u001b[0m\u001b[0;34m\u001b[0m\u001b[0m\n\u001b[0m",
      "\u001b[0;31mRuntimeError\u001b[0m: torch.linalg.cholesky: U(2,2) is zero, singular U."
     ]
    }
   ],
   "source": [
    "for i in range(20):\n",
    "    if i!=0:\n",
    "        for j in range(32):\n",
    "            print(i,j)\n",
    "            torch.linalg.cholesky(smoothed_cov1[i,j])"
   ]
  },
  {
   "cell_type": "code",
   "execution_count": 123,
   "metadata": {},
   "outputs": [
    {
     "data": {
      "text/plain": [
       "tensor([[ 5.0867e-01,  5.1886e-01,  2.3283e-01,  5.2988e-01,  5.2998e-01,\n",
       "          4.8118e-01,  5.3023e-01,  5.2261e-01,  5.3443e-01,  5.0997e-01,\n",
       "          3.0213e-01,  5.3414e-01,  3.1354e-01,  2.5297e-01,  3.0302e-01,\n",
       "          2.4683e-01,  2.8035e-01,  3.7066e-02,  5.3540e-01,  4.1462e-01,\n",
       "         -5.9253e-02,  5.2757e-01,  2.1511e-01,  5.2375e-01,  5.3541e-01,\n",
       "          5.1303e-01,  1.2758e-01,  3.2135e-01,  5.2464e-01,  4.9956e-01,\n",
       "          3.7841e-01,  4.6144e-01],\n",
       "        [ 9.9691e-05,  1.0201e-04,  8.2093e-05,  1.0577e-04,  1.0732e-04,\n",
       "          9.7354e-05,  1.0752e-04,  1.0351e-04,  1.0494e-04,  9.8539e-05,\n",
       "          8.7823e-05,  1.0458e-04,  8.7599e-05,  8.2439e-05,  8.7634e-05,\n",
       "          8.4933e-05,  8.3141e-05,  7.8848e-05,  1.0786e-04,  8.9438e-05,\n",
       "          7.6807e-05,  1.0292e-04,  8.1322e-05,  1.0248e-04,  1.0630e-04,\n",
       "          1.0029e-04,  7.9255e-05,  8.4756e-05,  1.0397e-04,  9.7517e-05,\n",
       "          8.8291e-05,  9.6308e-05],\n",
       "        [ 2.8739e-05,  2.9975e-05,  2.0673e-05,  3.0750e-05,  3.1587e-05,\n",
       "          2.7966e-05,  3.1755e-05,  2.8960e-05,  3.1081e-05,  2.6555e-05,\n",
       "          2.4054e-05,  3.1216e-05,  2.3703e-05,  2.0681e-05,  2.3894e-05,\n",
       "          2.2599e-05,  2.0811e-05,  2.0401e-05,  3.2589e-05,  2.2883e-05,\n",
       "          1.9758e-05,  2.9630e-05,  2.0379e-05,  2.9335e-05,  3.1705e-05,\n",
       "          2.7069e-05,  1.9879e-05,  2.1309e-05,  2.9111e-05,  2.5921e-05,\n",
       "          2.2940e-05,  2.7620e-05],\n",
       "        [ 2.2127e-05,  2.3812e-05,  1.6071e-05,  2.2211e-05,  2.3334e-05,\n",
       "          2.2553e-05,  2.3206e-05,  2.0580e-05,  2.3876e-05,  1.9318e-05,\n",
       "          2.0200e-05,  2.4264e-05,  1.8919e-05,  1.6161e-05,  1.9941e-05,\n",
       "          1.8163e-05,  1.6066e-05,  1.6575e-05,  2.4787e-05,  1.7213e-05,\n",
       "          1.6083e-05,  2.2128e-05,  1.5990e-05,  2.1710e-05,  2.3934e-05,\n",
       "          1.8704e-05,  1.5767e-05,  1.6253e-05,  2.0630e-05,  1.8224e-05,\n",
       "          1.7807e-05,  2.3082e-05],\n",
       "        [ 2.0069e-05,  2.2595e-05,  1.5124e-05,  1.9537e-05,  2.1213e-05,\n",
       "          2.1281e-05,  2.0588e-05,  1.8175e-05,  2.1822e-05,  1.7691e-05,\n",
       "          1.9977e-05,  2.2497e-05,  1.7730e-05,  1.5266e-05,  1.9542e-05,\n",
       "          1.7319e-05,  1.5087e-05,  1.5780e-05,  2.2635e-05,  1.6139e-05,\n",
       "          1.5303e-05,  1.9927e-05,  1.5106e-05,  1.9728e-05,  2.1709e-05,\n",
       "          1.6199e-05,  1.4932e-05,  1.5159e-05,  1.8227e-05,  1.6186e-05,\n",
       "          1.6958e-05,  2.2483e-05],\n",
       "        [ 1.8846e-05,  2.2140e-05,  1.4899e-05,  1.8358e-05,  2.0598e-05,\n",
       "          2.0780e-05,  1.9290e-05,  1.7183e-05,  2.0724e-05,  1.7294e-05,\n",
       "          2.0178e-05,  2.1785e-05,  1.7322e-05,  1.5189e-05,  1.9459e-05,\n",
       "          1.7121e-05,  1.4830e-05,  1.5714e-05,  2.1729e-05,  1.6216e-05,\n",
       "          1.5060e-05,  1.9080e-05,  1.4904e-05,  1.8920e-05,  2.0979e-05,\n",
       "          1.5286e-05,  1.4733e-05,  1.4860e-05,  1.7429e-05,  1.5402e-05,\n",
       "          1.7162e-05,  2.2334e-05],\n",
       "        [ 1.8095e-05,  2.1910e-05,  1.4846e-05,  1.7822e-05,  2.0466e-05,\n",
       "          2.0548e-05,  1.8587e-05,  1.6672e-05,  1.9867e-05,  1.7148e-05,\n",
       "          2.0745e-05,  2.1635e-05,  1.7295e-05,  1.5570e-05,  1.9821e-05,\n",
       "          1.7057e-05,  1.4767e-05,  1.5747e-05,  2.1411e-05,  1.6661e-05,\n",
       "          1.4977e-05,  1.8652e-05,  1.4873e-05,  1.7834e-05,  2.0775e-05,\n",
       "          1.4916e-05,  1.4686e-05,  1.4755e-05,  1.7154e-05,  1.5029e-05,\n",
       "          1.7691e-05,  2.2268e-05],\n",
       "        [ 1.7401e-05,  2.1641e-05,  1.4846e-05,  1.7375e-05,  2.0470e-05,\n",
       "          2.0452e-05,  1.8079e-05,  1.6378e-05,  1.9144e-05,  1.6976e-05,\n",
       "          2.1062e-05,  2.1435e-05,  1.7590e-05,  1.6352e-05,  2.0044e-05,\n",
       "          1.7007e-05,  1.4765e-05,  1.5845e-05,  2.1300e-05,  1.7285e-05,\n",
       "          1.4958e-05,  1.8356e-05,  1.4894e-05,  1.7092e-05,  2.0783e-05,\n",
       "          1.4760e-05,  1.4676e-05,  1.4709e-05,  1.7012e-05,  1.4845e-05,\n",
       "          1.8439e-05,  2.2006e-05],\n",
       "        [ 1.6931e-05,  2.1234e-05,  1.4892e-05,  1.6945e-05,  2.0382e-05,\n",
       "          2.0609e-05,  1.7250e-05,  1.6187e-05,  1.8255e-05,  1.6709e-05,\n",
       "          2.1465e-05,  2.1247e-05,  1.7422e-05,  1.7528e-05,  2.0240e-05,\n",
       "          1.7024e-05,  1.4784e-05,  1.5980e-05,  2.1192e-05,  1.8083e-05,\n",
       "          1.4974e-05,  1.8006e-05,  1.4948e-05,  1.6455e-05,  2.0782e-05,\n",
       "          1.4700e-05,  1.4674e-05,  1.4690e-05,  1.6635e-05,  1.4763e-05,\n",
       "          1.8840e-05,  2.1748e-05],\n",
       "        [ 1.6522e-05,  2.0749e-05,  1.4972e-05,  1.6621e-05,  2.0133e-05,\n",
       "          2.0579e-05,  1.6516e-05,  1.6092e-05,  1.7279e-05,  1.6379e-05,\n",
       "          2.1596e-05,  2.0952e-05,  1.7300e-05,  1.8733e-05,  2.0325e-05,\n",
       "          1.7226e-05,  1.4821e-05,  1.6568e-05,  2.0975e-05,  1.8762e-05,\n",
       "          1.5004e-05,  1.7568e-05,  1.5012e-05,  1.5897e-05,  2.0689e-05,\n",
       "          1.4677e-05,  1.4677e-05,  1.4678e-05,  1.6034e-05,  1.4713e-05,\n",
       "          1.9335e-05,  2.1457e-05],\n",
       "        [ 1.6076e-05,  2.0213e-05,  1.5117e-05,  1.6308e-05,  1.9858e-05,\n",
       "          2.0494e-05,  1.5870e-05,  1.5906e-05,  1.6421e-05,  1.6037e-05,\n",
       "          2.1633e-05,  2.0679e-05,  1.7296e-05,  1.9619e-05,  2.0644e-05,\n",
       "          1.7319e-05,  1.4864e-05,  1.7029e-05,  2.0736e-05,  1.9223e-05,\n",
       "          1.5012e-05,  1.7129e-05,  1.5076e-05,  1.5520e-05,  2.0688e-05,\n",
       "          1.4668e-05,  1.4683e-05,  1.4671e-05,  1.5695e-05,  1.4689e-05,\n",
       "          1.9877e-05,  2.1154e-05],\n",
       "        [ 1.5747e-05,  1.9545e-05,  1.5368e-05,  1.5985e-05,  1.9602e-05,\n",
       "          2.0556e-05,  1.5419e-05,  1.5717e-05,  1.5929e-05,  1.5652e-05,\n",
       "          2.1595e-05,  2.0442e-05,  1.7140e-05,  2.0072e-05,  2.0709e-05,\n",
       "          1.8032e-05,  1.4944e-05,  1.6990e-05,  2.0511e-05,  1.9613e-05,\n",
       "          1.5070e-05,  1.6822e-05,  1.5150e-05,  1.5295e-05,  2.0536e-05,\n",
       "          1.4664e-05,  1.4694e-05,  1.4666e-05,  1.5566e-05,  1.4676e-05,\n",
       "          2.0380e-05,  2.0757e-05],\n",
       "        [ 1.5440e-05,  1.8804e-05,  1.5844e-05,  1.5791e-05,  1.9312e-05,\n",
       "          2.0617e-05,  1.5330e-05,  1.5512e-05,  1.5457e-05,  1.5383e-05,\n",
       "          2.1424e-05,  2.0227e-05,  1.7080e-05,  2.0171e-05,  2.0667e-05,\n",
       "          1.8496e-05,  1.5109e-05,  1.7276e-05,  2.0298e-05,  1.9970e-05,\n",
       "          1.5129e-05,  1.6452e-05,  1.5217e-05,  1.5156e-05,  2.0506e-05,\n",
       "          1.4665e-05,  1.4719e-05,  1.4663e-05,  1.5399e-05,  1.4668e-05,\n",
       "          2.0619e-05,  2.0364e-05],\n",
       "        [ 1.5178e-05,  1.7982e-05,  1.6714e-05,  1.5635e-05,  1.9033e-05,\n",
       "          2.0656e-05,  1.5322e-05,  1.5359e-05,  1.5219e-05,  1.5543e-05,\n",
       "          2.1132e-05,  1.9879e-05,  1.7058e-05,  1.9759e-05,  2.0664e-05,\n",
       "          1.9001e-05,  1.5375e-05,  1.7494e-05,  1.9993e-05,  2.0290e-05,\n",
       "          1.5183e-05,  1.6024e-05,  1.5268e-05,  1.5115e-05,  2.0362e-05,\n",
       "          1.4668e-05,  1.4778e-05,  1.4663e-05,  1.5256e-05,  1.4665e-05,\n",
       "          2.0696e-05,  1.9789e-05],\n",
       "        [ 1.5032e-05,  1.7129e-05,  1.8045e-05,  1.5616e-05,  1.8781e-05,\n",
       "          2.0842e-05,  1.5440e-05,  1.5304e-05,  1.5082e-05,  1.5985e-05,\n",
       "          2.0677e-05,  1.9289e-05,  1.7083e-05,  1.9313e-05,  2.0554e-05,\n",
       "          1.9780e-05,  1.5861e-05,  1.7413e-05,  1.9657e-05,  2.0520e-05,\n",
       "          1.5360e-05,  1.5555e-05,  1.5345e-05,  1.5064e-05,  2.0086e-05,\n",
       "          1.4676e-05,  1.4909e-05,  1.4668e-05,  1.5169e-05,  1.4668e-05,\n",
       "          2.0527e-05,  1.9186e-05],\n",
       "        [ 1.4980e-05,  1.6535e-05,  1.9539e-05,  1.5676e-05,  1.8562e-05,\n",
       "          2.0994e-05,  1.5490e-05,  1.5252e-05,  1.5025e-05,  1.6476e-05,\n",
       "          2.0246e-05,  1.8706e-05,  1.7157e-05,  1.8458e-05,  2.0454e-05,\n",
       "          2.0576e-05,  1.6765e-05,  1.7635e-05,  1.9365e-05,  2.0685e-05,\n",
       "          1.5466e-05,  1.5243e-05,  1.5450e-05,  1.4990e-05,  1.9805e-05,\n",
       "          1.4705e-05,  1.5135e-05,  1.4690e-05,  1.5085e-05,  1.4689e-05,\n",
       "          2.0086e-05,  1.8512e-05],\n",
       "        [ 1.5115e-05,  1.6238e-05,  2.0911e-05,  1.5946e-05,  1.9055e-05,\n",
       "          2.1296e-05,  1.5706e-05,  1.5308e-05,  1.5165e-05,  1.7214e-05,\n",
       "          1.9887e-05,  1.8478e-05,  1.7536e-05,  1.7300e-05,  2.0613e-05,\n",
       "          2.1465e-05,  1.8311e-05,  1.7869e-05,  1.9102e-05,  2.1048e-05,\n",
       "          1.5672e-05,  1.5182e-05,  1.5659e-05,  1.5057e-05,  1.9838e-05,\n",
       "          1.4818e-05,  1.5517e-05,  1.4792e-05,  1.5085e-05,  1.4792e-05,\n",
       "          1.9240e-05,  1.8102e-05],\n",
       "        [ 1.5764e-05,  1.6600e-05,  2.2659e-05,  1.6821e-05,  2.0326e-05,\n",
       "          2.2452e-05,  1.6392e-05,  1.5788e-05,  1.5739e-05,  1.8257e-05,\n",
       "          2.0138e-05,  1.8307e-05,  1.7993e-05,  1.7086e-05,  2.1577e-05,\n",
       "          2.3173e-05,  2.0790e-05,  1.8246e-05,  1.9360e-05,  2.2014e-05,\n",
       "          1.6555e-05,  1.5520e-05,  1.6289e-05,  1.5570e-05,  2.0657e-05,\n",
       "          1.5334e-05,  1.6388e-05,  1.5288e-05,  1.5526e-05,  1.5288e-05,\n",
       "          1.9169e-05,  1.8128e-05],\n",
       "        [ 1.8697e-05,  1.9453e-05,  2.7453e-05,  2.0194e-05,  2.4634e-05,\n",
       "          2.7302e-05,  1.9417e-05,  1.8366e-05,  1.8543e-05,  2.1688e-05,\n",
       "          2.3151e-05,  2.0781e-05,  2.1517e-05,  1.9102e-05,  2.6080e-05,\n",
       "          2.8667e-05,  2.6642e-05,  2.1228e-05,  2.2378e-05,  2.5979e-05,\n",
       "          1.9957e-05,  1.7928e-05,  1.9124e-05,  1.8169e-05,  2.4354e-05,\n",
       "          1.7885e-05,  1.9710e-05,  1.7787e-05,  1.8007e-05,  1.7783e-05,\n",
       "          2.1432e-05,  2.0816e-05],\n",
       "        [ 3.4538e-05,  3.5557e-05,  4.9049e-05,  3.7060e-05,  4.4700e-05,\n",
       "          4.9962e-05,  3.5441e-05,  3.3049e-05,  3.3738e-05,  3.9142e-05,\n",
       "          4.0915e-05,  3.6818e-05,  3.8973e-05,  3.3707e-05,  4.7061e-05,\n",
       "          5.2375e-05,  4.9692e-05,  3.7620e-05,  3.9515e-05,  4.5962e-05,\n",
       "          3.6879e-05,  3.2189e-05,  3.4629e-05,  3.2837e-05,  4.2963e-05,\n",
       "          3.2352e-05,  3.6564e-05,  3.2075e-05,  3.2362e-05,  3.2053e-05,\n",
       "          3.7072e-05,  3.6784e-05]])"
      ]
     },
     "execution_count": 123,
     "metadata": {},
     "output_type": "execute_result"
    }
   ],
   "source": [
    "torch.linalg.det(smoothed_cov1)"
   ]
  },
  {
   "cell_type": "code",
   "execution_count": 213,
   "metadata": {},
   "outputs": [],
   "source": [
    "from pykalman import KalmanFilter\n",
    "import numpy as np\n",
    "A = np.array([\n",
    "    [1, 0, 1, 0],\n",
    "    [0, 1, 0, 0],\n",
    "    [0, 0, 1, 0],\n",
    "    [0, 0, 0, 1]\n",
    "])\n",
    "Q = 0.08*np.eye(4)\n",
    "R = 0.03*np.eye(2)\n",
    "C = np.array([\n",
    "    [1, 0, 0, 0],\n",
    "    [0, 1, 0, 0]\n",
    "])\n",
    "kf = KalmanFilter(transition_matrices=A_t[5,1:].numpy(), observation_matrices=C_t[5].numpy(), transition_covariance=Q, \n",
    "                  observation_covariance=R, initial_state_mean=np.zeros(4),\n",
    "                  initial_state_covariance=20*np.eye(4))\n",
    "points = np.load('datasets/trimmed_datapoints.npy')[0][:10]"
   ]
  },
  {
   "cell_type": "code",
   "execution_count": 161,
   "metadata": {},
   "outputs": [
    {
     "name": "stdout",
     "output_type": "stream",
     "text": [
      "torch.Size([15, 32, 2])\n"
     ]
    }
   ],
   "source": [
    "print(obs.size())"
   ]
  },
  {
   "cell_type": "code",
   "execution_count": 214,
   "metadata": {},
   "outputs": [],
   "source": [
    "(filtered_state_means, filtered_state_covariances) = kf.filter(obs[:,5].numpy())\n",
    "(smoothed_state_means, smoothed_state_covariances) = kf.smooth(obs[:,5].numpy())"
   ]
  },
  {
   "cell_type": "code",
   "execution_count": 195,
   "metadata": {},
   "outputs": [
    {
     "ename": "AttributeError",
     "evalue": "'KalmanFilter' object has no attribute '_smooth'",
     "output_type": "error",
     "traceback": [
      "\u001b[0;31m---------------------------------------------------------------------------\u001b[0m",
      "\u001b[0;31mAttributeError\u001b[0m                            Traceback (most recent call last)",
      "\u001b[0;32m/tmp/ipykernel_1039222/2697011802.py\u001b[0m in \u001b[0;36m<module>\u001b[0;34m\u001b[0m\n\u001b[0;32m----> 1\u001b[0;31m \u001b[0mkf\u001b[0m\u001b[0;34m.\u001b[0m\u001b[0m_smooth\u001b[0m\u001b[0;34m(\u001b[0m\u001b[0mobs\u001b[0m\u001b[0;34m[\u001b[0m\u001b[0;34m:\u001b[0m\u001b[0;34m,\u001b[0m\u001b[0;36m5\u001b[0m\u001b[0;34m]\u001b[0m\u001b[0;34m.\u001b[0m\u001b[0mnumpy\u001b[0m\u001b[0;34m(\u001b[0m\u001b[0;34m)\u001b[0m\u001b[0;34m)\u001b[0m\u001b[0;34m\u001b[0m\u001b[0;34m\u001b[0m\u001b[0m\n\u001b[0m",
      "\u001b[0;31mAttributeError\u001b[0m: 'KalmanFilter' object has no attribute '_smooth'"
     ]
    }
   ],
   "source": [
    "kf._sm"
   ]
  },
  {
   "cell_type": "code",
   "execution_count": 220,
   "metadata": {},
   "outputs": [
    {
     "data": {
      "text/plain": [
       "tensor([4.6854e-02, 1.1070e-06, 1.0927e-06, 1.1270e-06, 1.0096e-06, 1.0866e-06,\n",
       "        1.0931e-06, 1.3040e-06, 1.3809e-06, 1.4235e-06, 1.6187e-06, 1.8287e-06,\n",
       "        2.1697e-06, 2.3959e-06, 3.6076e-06], dtype=torch.float64)"
      ]
     },
     "execution_count": 220,
     "metadata": {},
     "output_type": "execute_result"
    }
   ],
   "source": [
    "torch.linalg.det(torch.from_numpy(smoothed_state_covariances))"
   ]
  },
  {
   "cell_type": "code",
   "execution_count": 221,
   "metadata": {},
   "outputs": [
    {
     "data": {
      "text/plain": [
       "tensor([4.6856e-02, 1.1070e-06, 1.0927e-06, 1.1270e-06, 1.0096e-06, 1.0866e-06,\n",
       "        1.0931e-06, 1.3040e-06, 1.3809e-06, 1.4235e-06, 1.6187e-06, 1.8287e-06,\n",
       "        2.1697e-06, 2.3959e-06, 3.6076e-06], device='cuda:0')"
      ]
     },
     "execution_count": 221,
     "metadata": {},
     "output_type": "execute_result"
    }
   ],
   "source": [
    "torch.linalg.det(smoooth[1][:,5,:,:])"
   ]
  },
  {
   "cell_type": "code",
   "execution_count": 222,
   "metadata": {},
   "outputs": [
    {
     "data": {
      "text/plain": [
       "array([[ 9.56760022e+00,  2.11193822e+00,  6.18172624e+00,\n",
       "         1.10753267e+00],\n",
       "       [ 2.40075214e+00,  7.48972007e-01, -1.58744427e+00,\n",
       "        -1.84152784e+00],\n",
       "       [ 2.32200393e+00,  7.68538984e-01, -1.52551971e+00,\n",
       "        -1.86565373e+00],\n",
       "       [ 1.34243462e+00,  1.27861197e+00, -6.64422061e-01,\n",
       "        -1.83874470e+00],\n",
       "       [ 1.07220678e+00,  1.17369377e+00, -4.89412118e-01,\n",
       "        -1.61736547e+00],\n",
       "       [ 9.93393832e-01,  1.21357787e+00, -3.53964867e-01,\n",
       "        -1.57082712e+00],\n",
       "       [ 7.90703861e-01,  1.10228870e+00, -2.94490711e-01,\n",
       "        -1.40049557e+00],\n",
       "       [ 7.58225910e-01,  1.15740149e+00, -2.18504607e-01,\n",
       "        -1.40314340e+00],\n",
       "       [ 6.69454422e-01,  1.21093709e+00, -1.23960944e-01,\n",
       "        -1.39578837e+00],\n",
       "       [ 5.82232747e-01,  1.13922326e+00, -9.88303150e-02,\n",
       "        -1.29670033e+00],\n",
       "       [ 4.69581731e-01,  1.15078495e+00, -6.68132233e-03,\n",
       "        -1.24282408e+00],\n",
       "       [ 3.40311454e-01,  1.14942206e+00,  7.43416512e-02,\n",
       "        -1.18150400e+00],\n",
       "       [ 3.18123209e-01,  1.18804536e+00,  1.26117582e-01,\n",
       "        -1.18794301e+00],\n",
       "       [ 2.82043121e-01,  1.22307194e+00,  1.72037844e-01,\n",
       "        -1.19497112e+00],\n",
       "       [ 2.05974178e-01,  1.22002886e+00,  2.06884331e-01,\n",
       "        -1.16571223e+00]])"
      ]
     },
     "execution_count": 222,
     "metadata": {},
     "output_type": "execute_result"
    }
   ],
   "source": [
    "smoothed_state_means"
   ]
  },
  {
   "cell_type": "code",
   "execution_count": 223,
   "metadata": {},
   "outputs": [
    {
     "data": {
      "text/plain": [
       "tensor([[ 9.5676e+00,  2.1119e+00,  6.1817e+00,  1.1075e+00],\n",
       "        [ 2.4008e+00,  7.4897e-01, -1.5874e+00, -1.8415e+00],\n",
       "        [ 2.3220e+00,  7.6854e-01, -1.5255e+00, -1.8657e+00],\n",
       "        [ 1.3424e+00,  1.2786e+00, -6.6442e-01, -1.8387e+00],\n",
       "        [ 1.0722e+00,  1.1737e+00, -4.8941e-01, -1.6174e+00],\n",
       "        [ 9.9339e-01,  1.2136e+00, -3.5396e-01, -1.5708e+00],\n",
       "        [ 7.9070e-01,  1.1023e+00, -2.9449e-01, -1.4005e+00],\n",
       "        [ 7.5823e-01,  1.1574e+00, -2.1850e-01, -1.4031e+00],\n",
       "        [ 6.6945e-01,  1.2109e+00, -1.2396e-01, -1.3958e+00],\n",
       "        [ 5.8223e-01,  1.1392e+00, -9.8830e-02, -1.2967e+00],\n",
       "        [ 4.6958e-01,  1.1508e+00, -6.6813e-03, -1.2428e+00],\n",
       "        [ 3.4031e-01,  1.1494e+00,  7.4342e-02, -1.1815e+00],\n",
       "        [ 3.1812e-01,  1.1880e+00,  1.2612e-01, -1.1879e+00],\n",
       "        [ 2.8204e-01,  1.2231e+00,  1.7204e-01, -1.1950e+00],\n",
       "        [ 2.0597e-01,  1.2200e+00,  2.0688e-01, -1.1657e+00]], device='cuda:0')"
      ]
     },
     "execution_count": 223,
     "metadata": {},
     "output_type": "execute_result"
    }
   ],
   "source": [
    "smoooth[0][:,5,:,0]"
   ]
  },
  {
   "cell_type": "code",
   "execution_count": 189,
   "metadata": {},
   "outputs": [
    {
     "data": {
      "text/plain": [
       "tensor([-5.1020e-02,  1.0816e-06,  1.0922e-06,  1.1271e-06,  1.0095e-06,\n",
       "         1.0866e-06,  1.0930e-06,  1.3038e-06,  1.3808e-06,  1.4231e-06,\n",
       "         1.6180e-06,  1.8276e-06,  2.1683e-06,  2.3954e-06,  3.6073e-06],\n",
       "       device='cuda:0')"
      ]
     },
     "execution_count": 189,
     "metadata": {},
     "output_type": "execute_result"
    }
   ],
   "source": [
    "torch.linalg.det(smoooth[1][:,5])"
   ]
  },
  {
   "cell_type": "code",
   "execution_count": 156,
   "metadata": {},
   "outputs": [
    {
     "ename": "TypeError",
     "evalue": "super(type, obj): obj must be an instance or subtype of type",
     "output_type": "error",
     "traceback": [
      "\u001b[0;31m---------------------------------------------------------------------------\u001b[0m",
      "\u001b[0;31mTypeError\u001b[0m                                 Traceback (most recent call last)",
      "\u001b[0;32m/tmp/ipykernel_1039222/672794763.py\u001b[0m in \u001b[0;36m<module>\u001b[0;34m\u001b[0m\n\u001b[0;32m----> 1\u001b[0;31m \u001b[0mkvae\u001b[0m \u001b[0;34m=\u001b[0m \u001b[0mKalmanVAE\u001b[0m\u001b[0;34m(\u001b[0m\u001b[0;36m1\u001b[0m\u001b[0;34m,\u001b[0m\u001b[0;36m128\u001b[0m\u001b[0;34m,\u001b[0m\u001b[0;36m2\u001b[0m\u001b[0;34m,\u001b[0m\u001b[0;36m4\u001b[0m\u001b[0;34m,\u001b[0m\u001b[0;36m1\u001b[0m\u001b[0;34m,\u001b[0m\u001b[0;36m1\u001b[0m\u001b[0;34m,\u001b[0m \u001b[0;34m'rnn'\u001b[0m\u001b[0;34m)\u001b[0m\u001b[0;34m.\u001b[0m\u001b[0mfloat\u001b[0m\u001b[0;34m(\u001b[0m\u001b[0;34m)\u001b[0m\u001b[0;34m\u001b[0m\u001b[0;34m\u001b[0m\u001b[0m\n\u001b[0m",
      "\u001b[0;32m~/codebase/bouncing-ball/models/KalmanVAE.py\u001b[0m in \u001b[0;36m__init__\u001b[0;34m(self, input_dim, hidden_dim, obs_dim, latent_dim, num_modes, beta, alpha)\u001b[0m\n\u001b[1;32m     11\u001b[0m \u001b[0;32mclass\u001b[0m \u001b[0mKalmanVAE\u001b[0m\u001b[0;34m(\u001b[0m\u001b[0mnn\u001b[0m\u001b[0;34m.\u001b[0m\u001b[0mModule\u001b[0m\u001b[0;34m)\u001b[0m\u001b[0;34m:\u001b[0m\u001b[0;34m\u001b[0m\u001b[0;34m\u001b[0m\u001b[0m\n\u001b[1;32m     12\u001b[0m     \u001b[0;32mdef\u001b[0m \u001b[0m__init__\u001b[0m\u001b[0;34m(\u001b[0m\u001b[0mself\u001b[0m\u001b[0;34m,\u001b[0m \u001b[0minput_dim\u001b[0m\u001b[0;34m,\u001b[0m \u001b[0mhidden_dim\u001b[0m\u001b[0;34m,\u001b[0m \u001b[0mobs_dim\u001b[0m\u001b[0;34m,\u001b[0m \u001b[0mlatent_dim\u001b[0m\u001b[0;34m,\u001b[0m \u001b[0mnum_modes\u001b[0m\u001b[0;34m,\u001b[0m \u001b[0mbeta\u001b[0m\u001b[0;34m=\u001b[0m\u001b[0;36m1\u001b[0m\u001b[0;34m,\u001b[0m \u001b[0malpha\u001b[0m\u001b[0;34m=\u001b[0m\u001b[0;34m'mlp'\u001b[0m\u001b[0;34m)\u001b[0m\u001b[0;34m:\u001b[0m\u001b[0;34m\u001b[0m\u001b[0;34m\u001b[0m\u001b[0m\n\u001b[0;32m---> 13\u001b[0;31m         \u001b[0msuper\u001b[0m\u001b[0;34m(\u001b[0m\u001b[0mKalmanVAE\u001b[0m\u001b[0;34m,\u001b[0m \u001b[0mself\u001b[0m\u001b[0;34m)\u001b[0m\u001b[0;34m.\u001b[0m\u001b[0m__init__\u001b[0m\u001b[0;34m(\u001b[0m\u001b[0;34m)\u001b[0m\u001b[0;34m\u001b[0m\u001b[0;34m\u001b[0m\u001b[0m\n\u001b[0m\u001b[1;32m     14\u001b[0m         \u001b[0mself\u001b[0m\u001b[0;34m.\u001b[0m\u001b[0minput_dim\u001b[0m \u001b[0;34m=\u001b[0m \u001b[0minput_dim\u001b[0m\u001b[0;34m\u001b[0m\u001b[0;34m\u001b[0m\u001b[0m\n\u001b[1;32m     15\u001b[0m         \u001b[0mself\u001b[0m\u001b[0;34m.\u001b[0m\u001b[0mhidden_dim\u001b[0m \u001b[0;34m=\u001b[0m \u001b[0mhidden_dim\u001b[0m\u001b[0;34m\u001b[0m\u001b[0;34m\u001b[0m\u001b[0m\n",
      "\u001b[0;31mTypeError\u001b[0m: super(type, obj): obj must be an instance or subtype of type"
     ]
    }
   ],
   "source": [
    "kvae = KalmanVAE(1,128,2,4,1,1, 'rnn').float()"
   ]
  },
  {
   "cell_type": "code",
   "execution_count": 54,
   "metadata": {},
   "outputs": [],
   "source": [
    "A_t = torch.from_numpy(A).unsqueeze(0).unsqueeze(0).repeat(1,10,1,1).cuda().float()\n",
    "C_t = torch.from_numpy(C).unsqueeze(0).unsqueeze(0).repeat(1,10,1,1).cuda().float()\n",
    "(m, cov), (p_m, p_c) = kvae._filter_posterior(torch.from_numpy(points).unsqueeze(0).transpose(0,1).cuda().float(), A_t, C_t)"
   ]
  },
  {
   "cell_type": "code",
   "execution_count": 58,
   "metadata": {},
   "outputs": [],
   "source": [
    "smooth_m, smooth_c = kvae._smooth_posterior(A_t, (m,cov), (p_m, p_c))"
   ]
  },
  {
   "cell_type": "code",
   "execution_count": 66,
   "metadata": {},
   "outputs": [
    {
     "data": {
      "text/plain": [
       "tensor([[[ 2.7046e-02,  0.0000e+00, -1.5178e-02,  0.0000e+00],\n",
       "         [ 0.0000e+00,  2.3219e-02,  0.0000e+00,  0.0000e+00],\n",
       "         [-1.5178e-02,  0.0000e+00,  6.1729e-02,  0.0000e+00],\n",
       "         [ 0.0000e+00,  0.0000e+00,  0.0000e+00,  2.0000e+01]],\n",
       "\n",
       "        [[ 2.1304e-02,  0.0000e+00, -4.6693e-03,  0.0000e+00],\n",
       "         [ 0.0000e+00,  1.9189e-02,  0.0000e+00,  0.0000e+00],\n",
       "         [-4.6693e-03,  0.0000e+00,  4.2795e-02,  0.0000e+00],\n",
       "         [ 0.0000e+00,  0.0000e+00,  0.0000e+00,  2.0080e+01]],\n",
       "\n",
       "        [[ 2.1291e-02,  0.0000e+00, -4.8781e-03,  0.0000e+00],\n",
       "         [ 0.0000e+00,  1.8985e-02,  0.0000e+00,  0.0000e+00],\n",
       "         [-4.8781e-03,  0.0000e+00,  3.9851e-02,  0.0000e+00],\n",
       "         [ 0.0000e+00,  0.0000e+00,  0.0000e+00,  2.0160e+01]],\n",
       "\n",
       "        [[ 2.1198e-02,  0.0000e+00, -5.0563e-03,  0.0000e+00],\n",
       "         [ 0.0000e+00,  1.8974e-02,  0.0000e+00,  0.0000e+00],\n",
       "         [-5.0563e-03,  0.0000e+00,  3.9508e-02,  0.0000e+00],\n",
       "         [ 0.0000e+00,  0.0000e+00,  0.0000e+00,  2.0240e+01]],\n",
       "\n",
       "        [[ 2.1171e-02,  0.0000e+00, -5.0874e-03,  0.0000e+00],\n",
       "         [ 0.0000e+00,  1.8974e-02,  0.0000e+00,  0.0000e+00],\n",
       "         [-5.0874e-03,  0.0000e+00,  3.9479e-02,  0.0000e+00],\n",
       "         [ 0.0000e+00,  0.0000e+00,  0.0000e+00,  2.0320e+01]],\n",
       "\n",
       "        [[ 2.1171e-02,  0.0000e+00, -5.1032e-03,  0.0000e+00],\n",
       "         [ 0.0000e+00,  1.8974e-02,  0.0000e+00,  0.0000e+00],\n",
       "         [-5.1032e-03,  0.0000e+00,  3.9508e-02,  0.0000e+00],\n",
       "         [ 0.0000e+00,  0.0000e+00,  0.0000e+00,  2.0400e+01]],\n",
       "\n",
       "        [[ 2.1199e-02,  0.0000e+00, -5.2023e-03,  0.0000e+00],\n",
       "         [ 0.0000e+00,  1.8974e-02,  0.0000e+00,  0.0000e+00],\n",
       "         [-5.2023e-03,  0.0000e+00,  3.9854e-02,  0.0000e+00],\n",
       "         [ 0.0000e+00,  0.0000e+00,  0.0000e+00,  2.0480e+01]],\n",
       "\n",
       "        [[ 2.1292e-02,  0.0000e+00, -5.7289e-03,  0.0000e+00],\n",
       "         [ 0.0000e+00,  1.8985e-02,  0.0000e+00,  0.0000e+00],\n",
       "         [-5.7289e-03,  0.0000e+00,  4.2824e-02,  0.0000e+00],\n",
       "         [ 0.0000e+00,  0.0000e+00,  0.0000e+00,  2.0560e+01]],\n",
       "\n",
       "        [[ 2.1307e-02,  0.0000e+00, -6.2714e-03,  0.0000e+00],\n",
       "         [ 0.0000e+00,  1.9190e-02,  0.0000e+00,  0.0000e+00],\n",
       "         [-6.2714e-03,  0.0000e+00,  6.2173e-02,  0.0000e+00],\n",
       "         [ 0.0000e+00,  0.0000e+00,  0.0000e+00,  2.0640e+01]],\n",
       "\n",
       "        [[ 2.7095e-02,  0.0000e+00,  1.5246e-02,  0.0000e+00],\n",
       "         [ 0.0000e+00,  2.3246e-02,  0.0000e+00,  0.0000e+00],\n",
       "         [ 1.5246e-02,  0.0000e+00,  1.4217e-01,  0.0000e+00],\n",
       "         [ 0.0000e+00,  0.0000e+00,  0.0000e+00,  2.0720e+01]]],\n",
       "       device='cuda:0')"
      ]
     },
     "execution_count": 66,
     "metadata": {},
     "output_type": "execute_result"
    }
   ],
   "source": [
    "smooth_c[:,0,:,:]"
   ]
  },
  {
   "cell_type": "code",
   "execution_count": 63,
   "metadata": {},
   "outputs": [
    {
     "data": {
      "text/plain": [
       "array([[[ 2.70463096e-02, -7.88541706e-19, -1.51781291e-02,\n",
       "          0.00000000e+00],\n",
       "        [-7.88541706e-19,  2.32185668e-02,  3.99801577e-18,\n",
       "          0.00000000e+00],\n",
       "        [-1.51781291e-02,  3.99801577e-18,  6.19689213e-02,\n",
       "          0.00000000e+00],\n",
       "        [ 0.00000000e+00,  0.00000000e+00,  0.00000000e+00,\n",
       "          2.00000000e+01]],\n",
       "\n",
       "       [[ 2.13042813e-02, -2.01768556e-20, -4.66926562e-03,\n",
       "          0.00000000e+00],\n",
       "        [-2.01768556e-20,  1.91888473e-02,  1.21241105e-19,\n",
       "          0.00000000e+00],\n",
       "        [-4.66926562e-03,  1.21241105e-19,  4.27947974e-02,\n",
       "          0.00000000e+00],\n",
       "        [ 0.00000000e+00,  0.00000000e+00,  0.00000000e+00,\n",
       "          2.00800000e+01]],\n",
       "\n",
       "       [[ 2.12905423e-02, -5.35899874e-20, -4.87813399e-03,\n",
       "          0.00000000e+00],\n",
       "        [-5.35899874e-20,  1.89845739e-02,  1.29279254e-18,\n",
       "          0.00000000e+00],\n",
       "        [-4.87813399e-03,  1.29279254e-18,  3.98512509e-02,\n",
       "          0.00000000e+00],\n",
       "        [ 0.00000000e+00,  0.00000000e+00,  0.00000000e+00,\n",
       "          2.01600000e+01]],\n",
       "\n",
       "       [[ 2.11982385e-02, -6.58115543e-19, -5.05634763e-03,\n",
       "          0.00000000e+00],\n",
       "        [-6.58115543e-19,  1.89742190e-02, -5.73186974e-18,\n",
       "          0.00000000e+00],\n",
       "        [-5.05634763e-03, -5.73186974e-18,  3.95081742e-02,\n",
       "          0.00000000e+00],\n",
       "        [ 0.00000000e+00,  0.00000000e+00,  0.00000000e+00,\n",
       "          2.02400000e+01]],\n",
       "\n",
       "       [[ 2.11708956e-02, -6.08092386e-20, -5.08741426e-03,\n",
       "          0.00000000e+00],\n",
       "        [-6.08092386e-20,  1.89736954e-02,  1.28115114e-18,\n",
       "          0.00000000e+00],\n",
       "        [-5.08741426e-03,  1.28115114e-18,  3.94786106e-02,\n",
       "          0.00000000e+00],\n",
       "        [ 0.00000000e+00,  0.00000000e+00,  0.00000000e+00,\n",
       "          2.03200000e+01]],\n",
       "\n",
       "       [[ 2.11709375e-02, -6.41716167e-19, -5.10318270e-03,\n",
       "          0.00000000e+00],\n",
       "        [-6.41716167e-19,  1.89736956e-02, -5.69473385e-18,\n",
       "          0.00000000e+00],\n",
       "        [-5.10318270e-03, -5.69473385e-18,  3.95084547e-02,\n",
       "          0.00000000e+00],\n",
       "        [ 0.00000000e+00,  0.00000000e+00,  0.00000000e+00,\n",
       "          2.04000000e+01]],\n",
       "\n",
       "       [[ 2.11985470e-02, -4.28114334e-20, -5.20225691e-03,\n",
       "          0.00000000e+00],\n",
       "        [-4.28114334e-20,  1.89742225e-02,  1.22046597e-18,\n",
       "          0.00000000e+00],\n",
       "        [-5.20225691e-03,  1.22046597e-18,  3.98544220e-02,\n",
       "          0.00000000e+00],\n",
       "        [ 0.00000000e+00,  0.00000000e+00,  0.00000000e+00,\n",
       "          2.04800000e+01]],\n",
       "\n",
       "       [[ 2.12918758e-02, -6.20521664e-19, -5.72884800e-03,\n",
       "          0.00000000e+00],\n",
       "        [-6.20521664e-19,  1.89846432e-02, -5.78655746e-18,\n",
       "          0.00000000e+00],\n",
       "        [-5.72884800e-03, -5.78655746e-18,  4.28235689e-02,\n",
       "          0.00000000e+00],\n",
       "        [ 0.00000000e+00,  0.00000000e+00,  0.00000000e+00,\n",
       "          2.05600000e+01]],\n",
       "\n",
       "       [[ 2.13070833e-02,  0.00000000e+00, -6.27138817e-03,\n",
       "          0.00000000e+00],\n",
       "        [ 0.00000000e+00,  1.91902153e-02,  0.00000000e+00,\n",
       "          0.00000000e+00],\n",
       "        [-6.27138817e-03,  0.00000000e+00,  6.21731316e-02,\n",
       "          0.00000000e+00],\n",
       "        [ 0.00000000e+00,  0.00000000e+00,  0.00000000e+00,\n",
       "          2.06400000e+01]],\n",
       "\n",
       "       [[ 2.70945202e-02,  0.00000000e+00,  1.52459300e-02,\n",
       "          0.00000000e+00],\n",
       "        [ 0.00000000e+00,  2.32455532e-02,  0.00000000e+00,\n",
       "          0.00000000e+00],\n",
       "        [ 1.52459300e-02,  0.00000000e+00,  1.42173132e-01,\n",
       "          0.00000000e+00],\n",
       "        [ 0.00000000e+00,  0.00000000e+00,  0.00000000e+00,\n",
       "          2.07200000e+01]]])"
      ]
     },
     "execution_count": 63,
     "metadata": {},
     "output_type": "execute_result"
    }
   ],
   "source": [
    "smoothed_state_covariances"
   ]
  }
 ],
 "metadata": {
  "interpreter": {
   "hash": "ff27035c8dc0a26468b79942def09685664b2e815f4bca7e9395dcaceb48c986"
  },
  "kernelspec": {
   "display_name": "Python 3.8.10 ('py38_pytorch')",
   "language": "python",
   "name": "python3"
  },
  "language_info": {
   "codemirror_mode": {
    "name": "ipython",
    "version": 3
   },
   "file_extension": ".py",
   "mimetype": "text/x-python",
   "name": "python",
   "nbconvert_exporter": "python",
   "pygments_lexer": "ipython3",
   "version": "3.8.10"
  },
  "orig_nbformat": 4
 },
 "nbformat": 4,
 "nbformat_minor": 2
}
