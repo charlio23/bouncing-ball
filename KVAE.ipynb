{
 "cells": [
  {
   "cell_type": "code",
   "execution_count": 240,
   "metadata": {},
   "outputs": [
    {
     "name": "stdout",
     "output_type": "stream",
     "text": [
      "The autoreload extension is already loaded. To reload it, use:\n",
      "  %reload_ext autoreload\n"
     ]
    }
   ],
   "source": [
    "%load_ext autoreload\n",
    "%autoreload 2\n",
    "from matplotlib import pyplot as plt\n",
    "import numpy as np\n",
    "import torch\n",
    "import torch.nn.functional as F\n",
    "\n",
    "from dataloaders.nascar import NascarDataLoader\n",
    "from dataloaders.bouncing_data import BouncingBallDataLoader, MissingBallDataset, SquareBallDataset\n",
    "from torch.utils.data import DataLoader\n",
    "from models.KalmanVAE import KalmanVAE\n",
    "from models.VRNN import VRNN\n"
   ]
  },
  {
   "cell_type": "code",
   "execution_count": 216,
   "metadata": {},
   "outputs": [
    {
     "name": "stdout",
     "output_type": "stream",
     "text": [
      "torch.Size([100, 1, 32, 32])\n",
      "torch.Size([100])\n"
     ]
    }
   ],
   "source": [
    "#dl = SquareBallDataset('/data2/users/hbz15/2_body_black_white_real_real/test_corrupt/',\n",
    "#                       '/data2/users/hbz15/2_body_black_white_real_real/mask_test/')\n",
    "dl = MissingBallDataset('/data2/users/hbz15/hmnist/test_missing_frame_kvae/')\n",
    "train_loader = DataLoader(dl, batch_size=None, shuffle=False, num_workers=4)\n",
    "im, y = next(iter(train_loader))\n",
    "print(im.size())\n",
    "print(y.size())"
   ]
  },
  {
   "cell_type": "code",
   "execution_count": 241,
   "metadata": {},
   "outputs": [],
   "source": [
    "im = torch.from_numpy(np.load('0.npz')['images'][:,np.newaxis,:,:,0])\n",
    "y = torch.from_numpy(np.load('0.npz')['missing_mask'][:,0,0,0])"
   ]
  },
  {
   "cell_type": "code",
   "execution_count": 203,
   "metadata": {},
   "outputs": [
    {
     "name": "stdout",
     "output_type": "stream",
     "text": [
      "torch.Size([100, 1, 32, 32])\n",
      "torch.Size([100])\n"
     ]
    }
   ],
   "source": [
    "print(im.size())\n",
    "print(y.size())"
   ]
  },
  {
   "cell_type": "code",
   "execution_count": 218,
   "metadata": {},
   "outputs": [
    {
     "data": {
      "image/png": "[encoded data removed]",
      "text/plain": [
       "<Figure size 720x720 with 1 Axes>"
      ]
     },
     "metadata": {},
     "output_type": "display_data"
    }
   ],
   "source": [
    "plt.figure(figsize=(10,10), constrained_layout=True)\n",
    "plt.imshow(np.concatenate(im[:14,0].numpy(), axis=1), cmap=\"gray\")\n",
    "plt.xticks([])\n",
    "plt.yticks([])\n",
    "plt.autoscale(False)\n",
    "plt.savefig(\"fig.pdf\")"
   ]
  },
  {
   "cell_type": "code",
   "execution_count": 116,
   "metadata": {},
   "outputs": [
    {
     "name": "stdout",
     "output_type": "stream",
     "text": [
      "tensor(1., dtype=torch.float64)\n"
     ]
    }
   ],
   "source": [
    "print(y[0])"
   ]
  },
  {
   "cell_type": "code",
   "execution_count": 222,
   "metadata": {},
   "outputs": [
    {
     "name": "stdout",
     "output_type": "stream",
     "text": [
      "KalmanVAE(\n",
      "  (encoder): CNNFastEncoder(\n",
      "    (in_conv): Conv2d(1, 32, kernel_size=(3, 3), stride=(2, 2), padding=(1, 1))\n",
      "    (hidden_conv): ModuleList(\n",
      "      (0): Conv2d(32, 32, kernel_size=(3, 3), stride=(2, 2), padding=(1, 1))\n",
      "    )\n",
      "    (out_mean): Linear(in_features=2048, out_features=16, bias=True)\n",
      "    (out_log_var): Linear(in_features=2048, out_features=16, bias=True)\n",
      "  )\n",
      "  (decoder): CNNFastDecoder(\n",
      "    (in_dec): Linear(in_features=16, out_features=2048, bias=True)\n",
      "    (hidden_convs): ModuleList(\n",
      "      (0): ConvTranspose2d(32, 64, kernel_size=(3, 3), stride=(2, 2), padding=(1, 1))\n",
      "      (1): ConvTranspose2d(64, 32, kernel_size=(3, 3), stride=(2, 2), padding=(1, 1))\n",
      "    )\n",
      "    (out_conv): Conv2d(32, 1, kernel_size=(3, 3), stride=(1, 1), padding=(1, 1))\n",
      "  )\n",
      "  (parameter_net): LSTM(16, 32, num_layers=2, batch_first=True)\n",
      "  (alpha_out): Linear(in_features=32, out_features=8, bias=True)\n",
      ")\n"
     ]
    },
    {
     "data": {
      "text/plain": [
       "<All keys matched successfully>"
      ]
     },
     "execution_count": 222,
     "metadata": {},
     "output_type": "execute_result"
    }
   ],
   "source": [
    "kvae = KalmanVAE(input_dim=1, hidden_dim=32, obs_dim=16, \n",
    "                     latent_dim=32, num_modes=8, beta=1, alpha='rnn').float().cuda().double()\n",
    "print(kvae)\n",
    "checkpoint = torch.load('/data2/users/hbz15/stored_models/KVAE_hmnist_mssing_50_latest.pth.tar')\n",
    "kvae.load_state_dict(checkpoint['kvae'])"
   ]
  },
  {
   "cell_type": "code",
   "execution_count": 205,
   "metadata": {},
   "outputs": [
    {
     "name": "stdout",
     "output_type": "stream",
     "text": [
      "torch.Size([1, 100, 1, 32, 32])\n"
     ]
    }
   ],
   "source": [
    "x_hat, a_mu, _, losses = kvae(im.unsqueeze(0).cuda().double(), mask_visual=y.unsqueeze(0).reshape(1,100,1,1).cuda().double())\n",
    "print(x_hat.size())"
   ]
  },
  {
   "cell_type": "code",
   "execution_count": 223,
   "metadata": {},
   "outputs": [
    {
     "data": {
      "image/png": "[encoded data removed]",
      "text/plain": [
       "<Figure size 720x720 with 1 Axes>"
      ]
     },
     "metadata": {},
     "output_type": "display_data"
    }
   ],
   "source": [
    "plt.figure(figsize=(10,10), constrained_layout=True)\n",
    "plt.imshow(np.concatenate(x_hat[0,:14,0].detach().cpu().numpy(), axis=1), cmap=\"gray\")\n",
    "plt.xticks([])\n",
    "plt.yticks([])\n",
    "plt.autoscale(False)\n",
    "plt.savefig(\"kvae_missing_mnist.pdf\")"
   ]
  },
  {
   "cell_type": "code",
   "execution_count": 242,
   "metadata": {},
   "outputs": [
    {
     "name": "stdout",
     "output_type": "stream",
     "text": [
      "VRNN(\n",
      "  (prior): MLP(\n",
      "    (fc1): Linear(in_features=32, out_features=32, bias=True)\n",
      "    (fc2): Linear(in_features=32, out_features=32, bias=True)\n",
      "    (fc_final): Linear(in_features=32, out_features=32, bias=True)\n",
      "  )\n",
      "  (embedder_x): CNNFastEncoder(\n",
      "    (in_conv): Conv2d(1, 32, kernel_size=(3, 3), stride=(2, 2), padding=(1, 1))\n",
      "    (hidden_conv): ModuleList(\n",
      "      (0): Conv2d(32, 32, kernel_size=(3, 3), stride=(2, 2), padding=(1, 1))\n",
      "    )\n",
      "    (out_mean): Linear(in_features=2048, out_features=16, bias=True)\n",
      "    (out_log_var): Linear(in_features=2048, out_features=16, bias=True)\n",
      "  )\n",
      "  (decoder): CNNFastDecoder(\n",
      "    (in_dec): Linear(in_features=48, out_features=2048, bias=True)\n",
      "    (hidden_convs): ModuleList(\n",
      "      (0): ConvTranspose2d(32, 64, kernel_size=(3, 3), stride=(2, 2), padding=(1, 1))\n",
      "      (1): ConvTranspose2d(64, 32, kernel_size=(3, 3), stride=(2, 2), padding=(1, 1))\n",
      "    )\n",
      "    (out_conv): Conv2d(32, 1, kernel_size=(3, 3), stride=(1, 1), padding=(1, 1))\n",
      "  )\n",
      "  (encoder): MLP(\n",
      "    (fc1): Linear(in_features=48, out_features=32, bias=True)\n",
      "    (fc2): Linear(in_features=32, out_features=32, bias=True)\n",
      "    (fc_final): Linear(in_features=32, out_features=32, bias=True)\n",
      "  )\n",
      "  (embedder_z): MLP(\n",
      "    (fc1): Linear(in_features=16, out_features=32, bias=True)\n",
      "    (fc2): Linear(in_features=32, out_features=32, bias=True)\n",
      "    (fc_final): Linear(in_features=32, out_features=16, bias=True)\n",
      "  )\n",
      "  (hidden_decoder): ModuleList(\n",
      "    (0): LSTMCell(32, 32)\n",
      "    (1): LSTMCell(32, 32)\n",
      "    (2): LSTMCell(32, 32)\n",
      "  )\n",
      ")\n"
     ]
    },
    {
     "data": {
      "text/plain": [
       "<All keys matched successfully>"
      ]
     },
     "execution_count": 242,
     "metadata": {},
     "output_type": "execute_result"
    }
   ],
   "source": [
    "vrnn = VRNN(1, 2, 32, 16, num_rec_layers=3, input_type='visual').float().cuda()\n",
    "print(vrnn)\n",
    "checkpoint = torch.load('/data2/users/cb221/stored_models/VRNN_hmnist_missing_latest.pth.tar')\n",
    "vrnn.load_state_dict(checkpoint['vrnn'])"
   ]
  },
  {
   "cell_type": "code",
   "execution_count": 243,
   "metadata": {},
   "outputs": [
    {
     "name": "stdout",
     "output_type": "stream",
     "text": [
      "torch.Size([1, 100, 1, 32, 32])\n"
     ]
    }
   ],
   "source": [
    "reconstr_seq, z_params, z_params_prior = vrnn(im.unsqueeze(0).cuda().float(), mask_frames=y.cuda().float().reshape(1,100,1,1,1))\n",
    "print(reconstr_seq.size())"
   ]
  },
  {
   "cell_type": "code",
   "execution_count": 244,
   "metadata": {},
   "outputs": [
    {
     "data": {
      "image/png": "[encoded data removed]",
      "text/plain": [
       "<Figure size 720x720 with 1 Axes>"
      ]
     },
     "metadata": {},
     "output_type": "display_data"
    }
   ],
   "source": [
    "plt.figure(figsize=(10,10), constrained_layout=True)\n",
    "plt.imshow(np.concatenate(reconstr_seq[0,:14,0].detach().cpu().numpy(), axis=1), cmap=\"gray\")\n",
    "plt.xticks([])\n",
    "plt.yticks([])\n",
    "plt.autoscale(False)\n",
    "plt.savefig(\"vrnn_missing_hmnist.pdf\")"
   ]
  },
  {
   "cell_type": "code",
   "execution_count": 18,
   "metadata": {},
   "outputs": [],
   "source": [
    "x_hat, a_mu, _, losses = kvae((im[:,:20] > 0.5).float().cuda())"
   ]
  },
  {
   "cell_type": "code",
   "execution_count": 30,
   "metadata": {},
   "outputs": [
    {
     "data": {
      "text/plain": [
       "tensor([[[ 1.9999e+01, -1.1640e-03, -9.8865e-03, -1.9081e-03],\n",
       "         [-1.1640e-03,  1.9996e+01, -1.5081e-02, -2.4793e-03],\n",
       "         [-9.8865e-03, -1.5081e-02,  1.9869e+01, -2.5392e-02],\n",
       "         [-1.9081e-03, -2.4793e-03, -2.5392e-02,  1.9995e+01]],\n",
       "\n",
       "        [[ 8.0183e-02,  6.5117e-05, -8.4901e-05, -6.8216e-05],\n",
       "         [ 6.5117e-05,  8.0581e-02,  1.4750e-04, -1.8906e-05],\n",
       "         [-8.4901e-05,  1.4750e-04,  8.0201e-02, -6.4224e-05],\n",
       "         [-6.8216e-05, -1.8906e-05, -6.4224e-05,  8.0116e-02]],\n",
       "\n",
       "        [[ 8.0001e-02,  1.7076e-07, -4.9422e-07, -3.2760e-07],\n",
       "         [ 1.7076e-07,  8.0003e-02,  4.3984e-07,  9.5897e-08],\n",
       "         [-4.9422e-07,  4.3984e-07,  7.9999e-02, -6.8072e-07],\n",
       "         [-3.2760e-07,  9.5897e-08, -6.8072e-07,  8.0000e-02]],\n",
       "\n",
       "        [[ 8.0001e-02,  1.6729e-07, -4.9513e-07, -3.2565e-07],\n",
       "         [ 1.6729e-07,  8.0003e-02,  4.3426e-07,  9.8900e-08],\n",
       "         [-4.9513e-07,  4.3426e-07,  7.9999e-02, -6.7968e-07],\n",
       "         [-3.2565e-07,  9.8900e-08, -6.7968e-07,  8.0000e-02]],\n",
       "\n",
       "        [[ 8.0001e-02,  1.6738e-07, -4.9503e-07, -3.2558e-07],\n",
       "         [ 1.6738e-07,  8.0003e-02,  4.3410e-07,  9.9559e-08],\n",
       "         [-4.9503e-07,  4.3410e-07,  7.9999e-02, -6.7948e-07],\n",
       "         [-3.2558e-07,  9.9559e-08, -6.7948e-07,  8.0000e-02]],\n",
       "\n",
       "        [[ 8.0001e-02,  1.6751e-07, -4.9495e-07, -3.2551e-07],\n",
       "         [ 1.6751e-07,  8.0003e-02,  4.3415e-07,  1.0021e-07],\n",
       "         [-4.9495e-07,  4.3415e-07,  7.9999e-02, -6.7938e-07],\n",
       "         [-3.2551e-07,  1.0021e-07, -6.7938e-07,  8.0000e-02]],\n",
       "\n",
       "        [[ 8.0001e-02,  1.6750e-07, -4.9499e-07, -3.2550e-07],\n",
       "         [ 1.6750e-07,  8.0003e-02,  4.3391e-07,  9.9855e-08],\n",
       "         [-4.9499e-07,  4.3391e-07,  7.9999e-02, -6.7931e-07],\n",
       "         [-3.2550e-07,  9.9855e-08, -6.7931e-07,  8.0000e-02]],\n",
       "\n",
       "        [[ 8.0001e-02,  1.6758e-07, -4.9483e-07, -3.2543e-07],\n",
       "         [ 1.6758e-07,  8.0003e-02,  4.3383e-07,  1.0089e-07],\n",
       "         [-4.9483e-07,  4.3383e-07,  7.9999e-02, -6.7910e-07],\n",
       "         [-3.2543e-07,  1.0089e-07, -6.7910e-07,  8.0000e-02]],\n",
       "\n",
       "        [[ 8.0001e-02,  1.6773e-07, -4.9478e-07, -3.2533e-07],\n",
       "         [ 1.6773e-07,  8.0003e-02,  4.3361e-07,  1.0122e-07],\n",
       "         [-4.9478e-07,  4.3361e-07,  7.9999e-02, -6.7890e-07],\n",
       "         [-3.2533e-07,  1.0122e-07, -6.7890e-07,  8.0000e-02]],\n",
       "\n",
       "        [[ 8.0001e-02,  1.6783e-07, -4.9466e-07, -3.2526e-07],\n",
       "         [ 1.6783e-07,  8.0003e-02,  4.3351e-07,  1.0198e-07],\n",
       "         [-4.9466e-07,  4.3351e-07,  7.9999e-02, -6.7872e-07],\n",
       "         [-3.2526e-07,  1.0198e-07, -6.7872e-07,  8.0000e-02]],\n",
       "\n",
       "        [[ 8.0001e-02,  1.6796e-07, -4.9463e-07, -3.2519e-07],\n",
       "         [ 1.6796e-07,  8.0003e-02,  4.3354e-07,  1.0230e-07],\n",
       "         [-4.9463e-07,  4.3354e-07,  7.9999e-02, -6.7865e-07],\n",
       "         [-3.2519e-07,  1.0230e-07, -6.7865e-07,  8.0000e-02]],\n",
       "\n",
       "        [[ 8.0001e-02,  1.6791e-07, -4.9464e-07, -3.2519e-07],\n",
       "         [ 1.6791e-07,  8.0003e-02,  4.3326e-07,  1.0198e-07],\n",
       "         [-4.9464e-07,  4.3326e-07,  7.9999e-02, -6.7856e-07],\n",
       "         [-3.2519e-07,  1.0198e-07, -6.7856e-07,  8.0000e-02]],\n",
       "\n",
       "        [[ 8.0001e-02,  1.6811e-07, -4.9447e-07, -3.2505e-07],\n",
       "         [ 1.6811e-07,  8.0003e-02,  4.3305e-07,  1.0313e-07],\n",
       "         [-4.9447e-07,  4.3305e-07,  7.9999e-02, -6.7824e-07],\n",
       "         [-3.2505e-07,  1.0313e-07, -6.7824e-07,  8.0000e-02]],\n",
       "\n",
       "        [[ 8.0001e-02,  1.6826e-07, -4.9436e-07, -3.2494e-07],\n",
       "         [ 1.6826e-07,  8.0003e-02,  4.3281e-07,  1.0388e-07],\n",
       "         [-4.9436e-07,  4.3281e-07,  7.9999e-02, -6.7797e-07],\n",
       "         [-3.2494e-07,  1.0388e-07, -6.7797e-07,  8.0000e-02]],\n",
       "\n",
       "        [[ 8.0001e-02,  1.6842e-07, -4.9423e-07, -3.2483e-07],\n",
       "         [ 1.6842e-07,  8.0003e-02,  4.3268e-07,  1.0477e-07],\n",
       "         [-4.9423e-07,  4.3268e-07,  7.9999e-02, -6.7774e-07],\n",
       "         [-3.2483e-07,  1.0477e-07, -6.7774e-07,  8.0000e-02]],\n",
       "\n",
       "        [[ 8.0001e-02,  1.6854e-07, -4.9413e-07, -3.2472e-07],\n",
       "         [ 1.6854e-07,  8.0003e-02,  4.3219e-07,  1.0514e-07],\n",
       "         [-4.9413e-07,  4.3219e-07,  7.9999e-02, -6.7740e-07],\n",
       "         [-3.2472e-07,  1.0514e-07, -6.7740e-07,  8.0000e-02]],\n",
       "\n",
       "        [[ 8.0001e-02,  1.6890e-07, -4.9391e-07, -3.2451e-07],\n",
       "         [ 1.6890e-07,  8.0003e-02,  4.3219e-07,  1.0692e-07],\n",
       "         [-4.9391e-07,  4.3219e-07,  7.9999e-02, -6.7705e-07],\n",
       "         [-3.2451e-07,  1.0692e-07, -6.7705e-07,  8.0000e-02]],\n",
       "\n",
       "        [[ 8.0001e-02,  1.6890e-07, -4.9389e-07, -3.2448e-07],\n",
       "         [ 1.6890e-07,  8.0003e-02,  4.3181e-07,  1.0672e-07],\n",
       "         [-4.9389e-07,  4.3181e-07,  7.9999e-02, -6.7689e-07],\n",
       "         [-3.2448e-07,  1.0672e-07, -6.7689e-07,  8.0000e-02]],\n",
       "\n",
       "        [[ 8.0001e-02,  1.6920e-07, -4.9372e-07, -3.2429e-07],\n",
       "         [ 1.6920e-07,  8.0003e-02,  4.3168e-07,  1.0802e-07],\n",
       "         [-4.9372e-07,  4.3168e-07,  7.9999e-02, -6.7655e-07],\n",
       "         [-3.2429e-07,  1.0803e-07, -6.7655e-07,  8.0000e-02]],\n",
       "\n",
       "        [[ 8.0001e-02,  1.6928e-07, -4.9373e-07, -3.2428e-07],\n",
       "         [ 1.6928e-07,  8.0003e-02,  4.3196e-07,  1.0838e-07],\n",
       "         [-4.9373e-07,  4.3196e-07,  7.9999e-02, -6.7662e-07],\n",
       "         [-3.2428e-07,  1.0838e-07, -6.7662e-07,  8.0000e-02]]],\n",
       "       device='cuda:0', grad_fn=<SelectBackward>)"
      ]
     },
     "execution_count": 30,
     "metadata": {},
     "output_type": "execute_result"
    }
   ],
   "source": [
    "kvae._kalman_posterior(a_mu, filter_only=True)[0][1][:,0]"
   ]
  },
  {
   "cell_type": "code",
   "execution_count": 15,
   "metadata": {},
   "outputs": [
    {
     "ename": "NameError",
     "evalue": "name 'a_mu' is not defined",
     "output_type": "error",
     "traceback": [
      "\u001b[0;31m---------------------------------------------------------------------------\u001b[0m",
      "\u001b[0;31mNameError\u001b[0m                                 Traceback (most recent call last)",
      "\u001b[0;32m/tmp/ipykernel_698190/506396384.py\u001b[0m in \u001b[0;36m<module>\u001b[0;34m\u001b[0m\n\u001b[1;32m      1\u001b[0m \u001b[0;32mfor\u001b[0m \u001b[0mi\u001b[0m \u001b[0;32min\u001b[0m \u001b[0mrange\u001b[0m\u001b[0;34m(\u001b[0m\u001b[0;36m4\u001b[0m\u001b[0;34m)\u001b[0m\u001b[0;34m:\u001b[0m\u001b[0;34m\u001b[0m\u001b[0;34m\u001b[0m\u001b[0m\n\u001b[0;32m----> 2\u001b[0;31m     \u001b[0mplt\u001b[0m\u001b[0;34m.\u001b[0m\u001b[0mscatter\u001b[0m\u001b[0;34m(\u001b[0m\u001b[0ma_mu\u001b[0m\u001b[0;34m[\u001b[0m\u001b[0mi\u001b[0m\u001b[0;34m,\u001b[0m\u001b[0;34m:\u001b[0m\u001b[0;34m,\u001b[0m\u001b[0;36m0\u001b[0m\u001b[0;34m]\u001b[0m\u001b[0;34m,\u001b[0m\u001b[0ma_mu\u001b[0m\u001b[0;34m[\u001b[0m\u001b[0mi\u001b[0m\u001b[0;34m,\u001b[0m\u001b[0;34m:\u001b[0m\u001b[0;34m,\u001b[0m\u001b[0;36m1\u001b[0m\u001b[0;34m]\u001b[0m\u001b[0;34m,\u001b[0m \u001b[0ms\u001b[0m\u001b[0;34m=\u001b[0m\u001b[0;36m10\u001b[0m\u001b[0;34m)\u001b[0m\u001b[0;34m\u001b[0m\u001b[0;34m\u001b[0m\u001b[0m\n\u001b[0m",
      "\u001b[0;31mNameError\u001b[0m: name 'a_mu' is not defined"
     ]
    }
   ],
   "source": [
    "for i in range(4):\n",
    "    plt.scatter(a_mu[i,:,0],a_mu[i,:,1], s=10)"
   ]
  },
  {
   "cell_type": "code",
   "execution_count": 11,
   "metadata": {},
   "outputs": [
    {
     "name": "stdout",
     "output_type": "stream",
     "text": [
      "(100, 100)\n",
      "torch.Size([100, 100, 2])\n"
     ]
    },
    {
     "data": {
      "image/png": "[encoded data removed]",
      "text/plain": [
       "<Figure size 864x288 with 3 Axes>"
      ]
     },
     "metadata": {
      "needs_background": "light"
     },
     "output_type": "display_data"
    }
   ],
   "source": [
    "N = 100\n",
    "xlist = np.linspace(-30, 30, N)\n",
    "ylist = np.linspace(-30, 30, N)\n",
    "X, Y = np.meshgrid(xlist, ylist)\n",
    "print(X.shape)\n",
    "X_t = torch.from_numpy(X).unsqueeze(-1)\n",
    "Y_t = torch.from_numpy(Y).unsqueeze(-1)\n",
    "dom = torch.cat([X_t,Y_t], dim=-1).float()\n",
    "print(dom.size())\n",
    "#out, (h, c) = kvae.cpu().parameter_net(dom.reshape(-1, 2))\n",
    "#Z = kvae.cpu().alpha_out(out)\n",
    "Z = kvae.cpu().parameter_net(dom.reshape(-1,2))\n",
    "Z = Z.softmax(-1).reshape(N,N,-1).detach().numpy()\n",
    "fig = plt.figure(figsize=(12,4))\n",
    "for i in range(3):\n",
    "    ax = plt.subplot(1,3,i+1)\n",
    "    cp = ax.contourf(X, Y, Z[:,:,i])\n",
    "plt.show()"
   ]
  },
  {
   "cell_type": "code",
   "execution_count": 3,
   "metadata": {},
   "outputs": [
    {
     "name": "stdout",
     "output_type": "stream",
     "text": [
      "torch.Size([100, 32, 16, 16])\n",
      "torch.Size([20, 32, 2])\n",
      "torch.Size([32, 20, 4, 4])\n",
      "torch.Size([32, 20, 2, 4])\n"
     ]
    }
   ],
   "source": [
    "smoothed_cov = torch.from_numpy(np.load('smoothed_cov.npy'))\n",
    "obs = torch.from_numpy(np.load('error_obs.npy'))\n",
    "A_t = torch.from_numpy(np.load('error_A.npy'))\n",
    "C_t = torch.from_numpy(np.load('error_C.npy'))\n",
    "\n",
    "print(smoothed_cov.size())\n",
    "print(obs.size())\n",
    "print(A_t.size())\n",
    "print(C_t.size())"
   ]
  },
  {
   "cell_type": "code",
   "execution_count": 219,
   "metadata": {},
   "outputs": [],
   "source": [
    "filt, pred = kvae._filter_posterior(obs.cuda(),A_t.cuda(),C_t.cuda())\n",
    "smoooth = kvae._smooth_posterior(A_t.cuda(), filt, pred)"
   ]
  },
  {
   "cell_type": "code",
   "execution_count": 140,
   "metadata": {},
   "outputs": [],
   "source": [
    "J_1 = torch.matmul(filt[1][0], torch.matmul(torch.transpose(A_t.cuda()[:,1,:,:], 1,2), torch.inverse(pred[1][1])))\n",
    "cov_diff = smoooth[1][1] - pred[1][1]\n",
    "Sigma_z_smooth = filt[1][0] + torch.matmul(torch.matmul(J_1, cov_diff), torch.transpose(J_1, 1, 2))"
   ]
  },
  {
   "cell_type": "code",
   "execution_count": 4,
   "metadata": {},
   "outputs": [
    {
     "ename": "NameError",
     "evalue": "name 'J_1' is not defined",
     "output_type": "error",
     "traceback": [
      "\u001b[0;31m---------------------------------------------------------------------------\u001b[0m",
      "\u001b[0;31mNameError\u001b[0m                                 Traceback (most recent call last)",
      "\u001b[0;32m/tmp/ipykernel_3615454/3101971444.py\u001b[0m in \u001b[0;36m<module>\u001b[0;34m\u001b[0m\n\u001b[0;32m----> 1\u001b[0;31m \u001b[0mtorch\u001b[0m\u001b[0;34m.\u001b[0m\u001b[0mlinalg\u001b[0m\u001b[0;34m.\u001b[0m\u001b[0mdet\u001b[0m\u001b[0;34m(\u001b[0m\u001b[0mtorch\u001b[0m\u001b[0;34m.\u001b[0m\u001b[0mmatmul\u001b[0m\u001b[0;34m(\u001b[0m\u001b[0mtorch\u001b[0m\u001b[0;34m.\u001b[0m\u001b[0mmatmul\u001b[0m\u001b[0;34m(\u001b[0m\u001b[0mJ_1\u001b[0m\u001b[0;34m,\u001b[0m \u001b[0mcov_diff\u001b[0m\u001b[0;34m)\u001b[0m\u001b[0;34m,\u001b[0m \u001b[0mtorch\u001b[0m\u001b[0;34m.\u001b[0m\u001b[0mtranspose\u001b[0m\u001b[0;34m(\u001b[0m\u001b[0mJ_1\u001b[0m\u001b[0;34m,\u001b[0m \u001b[0;36m1\u001b[0m\u001b[0;34m,\u001b[0m \u001b[0;36m2\u001b[0m\u001b[0;34m)\u001b[0m\u001b[0;34m)\u001b[0m\u001b[0;34m)\u001b[0m\u001b[0;34m\u001b[0m\u001b[0;34m\u001b[0m\u001b[0m\n\u001b[0m",
      "\u001b[0;31mNameError\u001b[0m: name 'J_1' is not defined"
     ]
    }
   ],
   "source": [
    "torch.linalg.det(torch.matmul(torch.matmul(J_1, cov_diff), torch.transpose(J_1, 1, 2)))"
   ]
  },
  {
   "cell_type": "code",
   "execution_count": 58,
   "metadata": {},
   "outputs": [
    {
     "name": "stdout",
     "output_type": "stream",
     "text": [
      "torch.Size([100, 32, 16, 16])\n"
     ]
    }
   ],
   "source": [
    "print(smoothed_cov.size())"
   ]
  },
  {
   "cell_type": "code",
   "execution_count": 59,
   "metadata": {},
   "outputs": [
    {
     "data": {
      "text/plain": [
       "tensor(True)"
      ]
     },
     "execution_count": 59,
     "metadata": {},
     "output_type": "execute_result"
    }
   ],
   "source": [
    "(torch.linalg.det(smoothed_cov[:,:] +0.01*torch.eye(16).reshape(1,1,16,16)) < 0).any()"
   ]
  },
  {
   "cell_type": "markdown",
   "metadata": {},
   "source": []
  },
  {
   "cell_type": "code",
   "execution_count": 90,
   "metadata": {},
   "outputs": [
    {
     "data": {
      "text/plain": [
       "tensor(-0.0077)"
      ]
     },
     "execution_count": 90,
     "metadata": {},
     "output_type": "execute_result"
    }
   ],
   "source": [
    "torch.linalg.det(smoothed_cov[0,27] + torch.eye(4)*1e-3)"
   ]
  },
  {
   "cell_type": "code",
   "execution_count": 128,
   "metadata": {},
   "outputs": [
    {
     "ename": "RuntimeError",
     "evalue": "torch.linalg.cholesky: For batch 11: U(2,2) is zero, singular U.",
     "output_type": "error",
     "traceback": [
      "\u001b[0;31m---------------------------------------------------------------------------\u001b[0m",
      "\u001b[0;31mRuntimeError\u001b[0m                              Traceback (most recent call last)",
      "\u001b[0;32m/tmp/ipykernel_1039222/740609702.py\u001b[0m in \u001b[0;36m<module>\u001b[0;34m\u001b[0m\n\u001b[1;32m      1\u001b[0m \u001b[0msmoothed_cov1\u001b[0m \u001b[0;34m=\u001b[0m \u001b[0mtorch\u001b[0m\u001b[0;34m.\u001b[0m\u001b[0mfrom_numpy\u001b[0m\u001b[0;34m(\u001b[0m\u001b[0mnp\u001b[0m\u001b[0;34m.\u001b[0m\u001b[0mload\u001b[0m\u001b[0;34m(\u001b[0m\u001b[0;34m'error_cov.npy'\u001b[0m\u001b[0;34m)\u001b[0m\u001b[0;34m)\u001b[0m\u001b[0;34m\u001b[0m\u001b[0;34m\u001b[0m\u001b[0m\n\u001b[1;32m      2\u001b[0m smoothed_z = torch.distributions.MultivariateNormal(torch.zeros(20,32,10,1)[1:].squeeze(-1), \n\u001b[0;32m----> 3\u001b[0;31m                         scale_tril=torch.linalg.cholesky((smoothed_cov1)[1:]))\n\u001b[0m",
      "\u001b[0;31mRuntimeError\u001b[0m: torch.linalg.cholesky: For batch 11: U(2,2) is zero, singular U."
     ]
    }
   ],
   "source": [
    "smoothed_cov1 = torch.from_numpy(np.load('error_cov.npy'))\n",
    "smoothed_z = torch.distributions.MultivariateNormal(torch.zeros(20,32,10,1)[1:].squeeze(-1), \n",
    "                        scale_tril=torch.linalg.cholesky((smoothed_cov1)[1:]))"
   ]
  },
  {
   "cell_type": "code",
   "execution_count": 117,
   "metadata": {},
   "outputs": [
    {
     "name": "stdout",
     "output_type": "stream",
     "text": [
      "torch.Size([20, 32, 4, 4])\n"
     ]
    }
   ],
   "source": []
  },
  {
   "cell_type": "code",
   "execution_count": 129,
   "metadata": {},
   "outputs": [
    {
     "name": "stdout",
     "output_type": "stream",
     "text": [
      "1 0\n",
      "1 1\n",
      "1 2\n",
      "1 3\n",
      "1 4\n",
      "1 5\n",
      "1 6\n",
      "1 7\n",
      "1 8\n",
      "1 9\n",
      "1 10\n",
      "1 11\n"
     ]
    },
    {
     "ename": "RuntimeError",
     "evalue": "torch.linalg.cholesky: U(2,2) is zero, singular U.",
     "output_type": "error",
     "traceback": [
      "\u001b[0;31m---------------------------------------------------------------------------\u001b[0m",
      "\u001b[0;31mRuntimeError\u001b[0m                              Traceback (most recent call last)",
      "\u001b[0;32m/tmp/ipykernel_1039222/264545150.py\u001b[0m in \u001b[0;36m<module>\u001b[0;34m\u001b[0m\n\u001b[1;32m      3\u001b[0m         \u001b[0;32mfor\u001b[0m \u001b[0mj\u001b[0m \u001b[0;32min\u001b[0m \u001b[0mrange\u001b[0m\u001b[0;34m(\u001b[0m\u001b[0;36m32\u001b[0m\u001b[0;34m)\u001b[0m\u001b[0;34m:\u001b[0m\u001b[0;34m\u001b[0m\u001b[0;34m\u001b[0m\u001b[0m\n\u001b[1;32m      4\u001b[0m             \u001b[0mprint\u001b[0m\u001b[0;34m(\u001b[0m\u001b[0mi\u001b[0m\u001b[0;34m,\u001b[0m\u001b[0mj\u001b[0m\u001b[0;34m)\u001b[0m\u001b[0;34m\u001b[0m\u001b[0;34m\u001b[0m\u001b[0m\n\u001b[0;32m----> 5\u001b[0;31m             \u001b[0mtorch\u001b[0m\u001b[0;34m.\u001b[0m\u001b[0mlinalg\u001b[0m\u001b[0;34m.\u001b[0m\u001b[0mcholesky\u001b[0m\u001b[0;34m(\u001b[0m\u001b[0msmoothed_cov1\u001b[0m\u001b[0;34m[\u001b[0m\u001b[0mi\u001b[0m\u001b[0;34m,\u001b[0m\u001b[0mj\u001b[0m\u001b[0;34m]\u001b[0m\u001b[0;34m)\u001b[0m\u001b[0;34m\u001b[0m\u001b[0;34m\u001b[0m\u001b[0m\n\u001b[0m",
      "\u001b[0;31mRuntimeError\u001b[0m: torch.linalg.cholesky: U(2,2) is zero, singular U."
     ]
    }
   ],
   "source": [
    "for i in range(20):\n",
    "    if i!=0:\n",
    "        for j in range(32):\n",
    "            print(i,j)\n",
    "            torch.linalg.cholesky(smoothed_cov1[i,j])"
   ]
  },
  {
   "cell_type": "code",
   "execution_count": 123,
   "metadata": {},
   "outputs": [
    {
     "data": {
      "text/plain": [
       "tensor([[ 5.0867e-01,  5.1886e-01,  2.3283e-01,  5.2988e-01,  5.2998e-01,\n",
       "          4.8118e-01,  5.3023e-01,  5.2261e-01,  5.3443e-01,  5.0997e-01,\n",
       "          3.0213e-01,  5.3414e-01,  3.1354e-01,  2.5297e-01,  3.0302e-01,\n",
       "          2.4683e-01,  2.8035e-01,  3.7066e-02,  5.3540e-01,  4.1462e-01,\n",
       "         -5.9253e-02,  5.2757e-01,  2.1511e-01,  5.2375e-01,  5.3541e-01,\n",
       "          5.1303e-01,  1.2758e-01,  3.2135e-01,  5.2464e-01,  4.9956e-01,\n",
       "          3.7841e-01,  4.6144e-01],\n",
       "        [ 9.9691e-05,  1.0201e-04,  8.2093e-05,  1.0577e-04,  1.0732e-04,\n",
       "          9.7354e-05,  1.0752e-04,  1.0351e-04,  1.0494e-04,  9.8539e-05,\n",
       "          8.7823e-05,  1.0458e-04,  8.7599e-05,  8.2439e-05,  8.7634e-05,\n",
       "          8.4933e-05,  8.3141e-05,  7.8848e-05,  1.0786e-04,  8.9438e-05,\n",
       "          7.6807e-05,  1.0292e-04,  8.1322e-05,  1.0248e-04,  1.0630e-04,\n",
       "          1.0029e-04,  7.9255e-05,  8.4756e-05,  1.0397e-04,  9.7517e-05,\n",
       "          8.8291e-05,  9.6308e-05],\n",
       "        [ 2.8739e-05,  2.9975e-05,  2.0673e-05,  3.0750e-05,  3.1587e-05,\n",
       "          2.7966e-05,  3.1755e-05,  2.8960e-05,  3.1081e-05,  2.6555e-05,\n",
       "          2.4054e-05,  3.1216e-05,  2.3703e-05,  2.0681e-05,  2.3894e-05,\n",
       "          2.2599e-05,  2.0811e-05,  2.0401e-05,  3.2589e-05,  2.2883e-05,\n",
       "          1.9758e-05,  2.9630e-05,  2.0379e-05,  2.9335e-05,  3.1705e-05,\n",
       "          2.7069e-05,  1.9879e-05,  2.1309e-05,  2.9111e-05,  2.5921e-05,\n",
       "          2.2940e-05,  2.7620e-05],\n",
       "        [ 2.2127e-05,  2.3812e-05,  1.6071e-05,  2.2211e-05,  2.3334e-05,\n",
       "          2.2553e-05,  2.3206e-05,  2.0580e-05,  2.3876e-05,  1.9318e-05,\n",
       "          2.0200e-05,  2.4264e-05,  1.8919e-05,  1.6161e-05,  1.9941e-05,\n",
       "          1.8163e-05,  1.6066e-05,  1.6575e-05,  2.4787e-05,  1.7213e-05,\n",
       "          1.6083e-05,  2.2128e-05,  1.5990e-05,  2.1710e-05,  2.3934e-05,\n",
       "          1.8704e-05,  1.5767e-05,  1.6253e-05,  2.0630e-05,  1.8224e-05,\n",
       "          1.7807e-05,  2.3082e-05],\n",
       "        [ 2.0069e-05,  2.2595e-05,  1.5124e-05,  1.9537e-05,  2.1213e-05,\n",
       "          2.1281e-05,  2.0588e-05,  1.8175e-05,  2.1822e-05,  1.7691e-05,\n",
       "          1.9977e-05,  2.2497e-05,  1.7730e-05,  1.5266e-05,  1.9542e-05,\n",
       "          1.7319e-05,  1.5087e-05,  1.5780e-05,  2.2635e-05,  1.6139e-05,\n",
       "          1.5303e-05,  1.9927e-05,  1.5106e-05,  1.9728e-05,  2.1709e-05,\n",
       "          1.6199e-05,  1.4932e-05,  1.5159e-05,  1.8227e-05,  1.6186e-05,\n",
       "          1.6958e-05,  2.2483e-05],\n",
       "        [ 1.8846e-05,  2.2140e-05,  1.4899e-05,  1.8358e-05,  2.0598e-05,\n",
       "          2.0780e-05,  1.9290e-05,  1.7183e-05,  2.0724e-05,  1.7294e-05,\n",
       "          2.0178e-05,  2.1785e-05,  1.7322e-05,  1.5189e-05,  1.9459e-05,\n",
       "          1.7121e-05,  1.4830e-05,  1.5714e-05,  2.1729e-05,  1.6216e-05,\n",
       "          1.5060e-05,  1.9080e-05,  1.4904e-05,  1.8920e-05,  2.0979e-05,\n",
       "          1.5286e-05,  1.4733e-05,  1.4860e-05,  1.7429e-05,  1.5402e-05,\n",
       "          1.7162e-05,  2.2334e-05],\n",
       "        [ 1.8095e-05,  2.1910e-05,  1.4846e-05,  1.7822e-05,  2.0466e-05,\n",
       "          2.0548e-05,  1.8587e-05,  1.6672e-05,  1.9867e-05,  1.7148e-05,\n",
       "          2.0745e-05,  2.1635e-05,  1.7295e-05,  1.5570e-05,  1.9821e-05,\n",
       "          1.7057e-05,  1.4767e-05,  1.5747e-05,  2.1411e-05,  1.6661e-05,\n",
       "          1.4977e-05,  1.8652e-05,  1.4873e-05,  1.7834e-05,  2.0775e-05,\n",
       "          1.4916e-05,  1.4686e-05,  1.4755e-05,  1.7154e-05,  1.5029e-05,\n",
       "          1.7691e-05,  2.2268e-05],\n",
       "        [ 1.7401e-05,  2.1641e-05,  1.4846e-05,  1.7375e-05,  2.0470e-05,\n",
       "          2.0452e-05,  1.8079e-05,  1.6378e-05,  1.9144e-05,  1.6976e-05,\n",
       "          2.1062e-05,  2.1435e-05,  1.7590e-05,  1.6352e-05,  2.0044e-05,\n",
       "          1.7007e-05,  1.4765e-05,  1.5845e-05,  2.1300e-05,  1.7285e-05,\n",
       "          1.4958e-05,  1.8356e-05,  1.4894e-05,  1.7092e-05,  2.0783e-05,\n",
       "          1.4760e-05,  1.4676e-05,  1.4709e-05,  1.7012e-05,  1.4845e-05,\n",
       "          1.8439e-05,  2.2006e-05],\n",
       "        [ 1.6931e-05,  2.1234e-05,  1.4892e-05,  1.6945e-05,  2.0382e-05,\n",
       "          2.0609e-05,  1.7250e-05,  1.6187e-05,  1.8255e-05,  1.6709e-05,\n",
       "          2.1465e-05,  2.1247e-05,  1.7422e-05,  1.7528e-05,  2.0240e-05,\n",
       "          1.7024e-05,  1.4784e-05,  1.5980e-05,  2.1192e-05,  1.8083e-05,\n",
       "          1.4974e-05,  1.8006e-05,  1.4948e-05,  1.6455e-05,  2.0782e-05,\n",
       "          1.4700e-05,  1.4674e-05,  1.4690e-05,  1.6635e-05,  1.4763e-05,\n",
       "          1.8840e-05,  2.1748e-05],\n",
       "        [ 1.6522e-05,  2.0749e-05,  1.4972e-05,  1.6621e-05,  2.0133e-05,\n",
       "          2.0579e-05,  1.6516e-05,  1.6092e-05,  1.7279e-05,  1.6379e-05,\n",
       "          2.1596e-05,  2.0952e-05,  1.7300e-05,  1.8733e-05,  2.0325e-05,\n",
       "          1.7226e-05,  1.4821e-05,  1.6568e-05,  2.0975e-05,  1.8762e-05,\n",
       "          1.5004e-05,  1.7568e-05,  1.5012e-05,  1.5897e-05,  2.0689e-05,\n",
       "          1.4677e-05,  1.4677e-05,  1.4678e-05,  1.6034e-05,  1.4713e-05,\n",
       "          1.9335e-05,  2.1457e-05],\n",
       "        [ 1.6076e-05,  2.0213e-05,  1.5117e-05,  1.6308e-05,  1.9858e-05,\n",
       "          2.0494e-05,  1.5870e-05,  1.5906e-05,  1.6421e-05,  1.6037e-05,\n",
       "          2.1633e-05,  2.0679e-05,  1.7296e-05,  1.9619e-05,  2.0644e-05,\n",
       "          1.7319e-05,  1.4864e-05,  1.7029e-05,  2.0736e-05,  1.9223e-05,\n",
       "          1.5012e-05,  1.7129e-05,  1.5076e-05,  1.5520e-05,  2.0688e-05,\n",
       "          1.4668e-05,  1.4683e-05,  1.4671e-05,  1.5695e-05,  1.4689e-05,\n",
       "          1.9877e-05,  2.1154e-05],\n",
       "        [ 1.5747e-05,  1.9545e-05,  1.5368e-05,  1.5985e-05,  1.9602e-05,\n",
       "          2.0556e-05,  1.5419e-05,  1.5717e-05,  1.5929e-05,  1.5652e-05,\n",
       "          2.1595e-05,  2.0442e-05,  1.7140e-05,  2.0072e-05,  2.0709e-05,\n",
       "          1.8032e-05,  1.4944e-05,  1.6990e-05,  2.0511e-05,  1.9613e-05,\n",
       "          1.5070e-05,  1.6822e-05,  1.5150e-05,  1.5295e-05,  2.0536e-05,\n",
       "          1.4664e-05,  1.4694e-05,  1.4666e-05,  1.5566e-05,  1.4676e-05,\n",
       "          2.0380e-05,  2.0757e-05],\n",
       "        [ 1.5440e-05,  1.8804e-05,  1.5844e-05,  1.5791e-05,  1.9312e-05,\n",
       "          2.0617e-05,  1.5330e-05,  1.5512e-05,  1.5457e-05,  1.5383e-05,\n",
       "          2.1424e-05,  2.0227e-05,  1.7080e-05,  2.0171e-05,  2.0667e-05,\n",
       "          1.8496e-05,  1.5109e-05,  1.7276e-05,  2.0298e-05,  1.9970e-05,\n",
       "          1.5129e-05,  1.6452e-05,  1.5217e-05,  1.5156e-05,  2.0506e-05,\n",
       "          1.4665e-05,  1.4719e-05,  1.4663e-05,  1.5399e-05,  1.4668e-05,\n",
       "          2.0619e-05,  2.0364e-05],\n",
       "        [ 1.5178e-05,  1.7982e-05,  1.6714e-05,  1.5635e-05,  1.9033e-05,\n",
       "          2.0656e-05,  1.5322e-05,  1.5359e-05,  1.5219e-05,  1.5543e-05,\n",
       "          2.1132e-05,  1.9879e-05,  1.7058e-05,  1.9759e-05,  2.0664e-05,\n",
       "          1.9001e-05,  1.5375e-05,  1.7494e-05,  1.9993e-05,  2.0290e-05,\n",
       "          1.5183e-05,  1.6024e-05,  1.5268e-05,  1.5115e-05,  2.0362e-05,\n",
       "          1.4668e-05,  1.4778e-05,  1.4663e-05,  1.5256e-05,  1.4665e-05,\n",
       "          2.0696e-05,  1.9789e-05],\n",
       "        [ 1.5032e-05,  1.7129e-05,  1.8045e-05,  1.5616e-05,  1.8781e-05,\n",
       "          2.0842e-05,  1.5440e-05,  1.5304e-05,  1.5082e-05,  1.5985e-05,\n",
       "          2.0677e-05,  1.9289e-05,  1.7083e-05,  1.9313e-05,  2.0554e-05,\n",
       "          1.9780e-05,  1.5861e-05,  1.7413e-05,  1.9657e-05,  2.0520e-05,\n",
       "          1.5360e-05,  1.5555e-05,  1.5345e-05,  1.5064e-05,  2.0086e-05,\n",
       "          1.4676e-05,  1.4909e-05,  1.4668e-05,  1.5169e-05,  1.4668e-05,\n",
       "          2.0527e-05,  1.9186e-05],\n",
       "        [ 1.4980e-05,  1.6535e-05,  1.9539e-05,  1.5676e-05,  1.8562e-05,\n",
       "          2.0994e-05,  1.5490e-05,  1.5252e-05,  1.5025e-05,  1.6476e-05,\n",
       "          2.0246e-05,  1.8706e-05,  1.7157e-05,  1.8458e-05,  2.0454e-05,\n",
       "          2.0576e-05,  1.6765e-05,  1.7635e-05,  1.9365e-05,  2.0685e-05,\n",
       "          1.5466e-05,  1.5243e-05,  1.5450e-05,  1.4990e-05,  1.9805e-05,\n",
       "          1.4705e-05,  1.5135e-05,  1.4690e-05,  1.5085e-05,  1.4689e-05,\n",
       "          2.0086e-05,  1.8512e-05],\n",
       "        [ 1.5115e-05,  1.6238e-05,  2.0911e-05,  1.5946e-05,  1.9055e-05,\n",
       "          2.1296e-05,  1.5706e-05,  1.5308e-05,  1.5165e-05,  1.7214e-05,\n",
       "          1.9887e-05,  1.8478e-05,  1.7536e-05,  1.7300e-05,  2.0613e-05,\n",
       "          2.1465e-05,  1.8311e-05,  1.7869e-05,  1.9102e-05,  2.1048e-05,\n",
       "          1.5672e-05,  1.5182e-05,  1.5659e-05,  1.5057e-05,  1.9838e-05,\n",
       "          1.4818e-05,  1.5517e-05,  1.4792e-05,  1.5085e-05,  1.4792e-05,\n",
       "          1.9240e-05,  1.8102e-05],\n",
       "        [ 1.5764e-05,  1.6600e-05,  2.2659e-05,  1.6821e-05,  2.0326e-05,\n",
       "          2.2452e-05,  1.6392e-05,  1.5788e-05,  1.5739e-05,  1.8257e-05,\n",
       "          2.0138e-05,  1.8307e-05,  1.7993e-05,  1.7086e-05,  2.1577e-05,\n",
       "          2.3173e-05,  2.0790e-05,  1.8246e-05,  1.9360e-05,  2.2014e-05,\n",
       "          1.6555e-05,  1.5520e-05,  1.6289e-05,  1.5570e-05,  2.0657e-05,\n",
       "          1.5334e-05,  1.6388e-05,  1.5288e-05,  1.5526e-05,  1.5288e-05,\n",
       "          1.9169e-05,  1.8128e-05],\n",
       "        [ 1.8697e-05,  1.9453e-05,  2.7453e-05,  2.0194e-05,  2.4634e-05,\n",
       "          2.7302e-05,  1.9417e-05,  1.8366e-05,  1.8543e-05,  2.1688e-05,\n",
       "          2.3151e-05,  2.0781e-05,  2.1517e-05,  1.9102e-05,  2.6080e-05,\n",
       "          2.8667e-05,  2.6642e-05,  2.1228e-05,  2.2378e-05,  2.5979e-05,\n",
       "          1.9957e-05,  1.7928e-05,  1.9124e-05,  1.8169e-05,  2.4354e-05,\n",
       "          1.7885e-05,  1.9710e-05,  1.7787e-05,  1.8007e-05,  1.7783e-05,\n",
       "          2.1432e-05,  2.0816e-05],\n",
       "        [ 3.4538e-05,  3.5557e-05,  4.9049e-05,  3.7060e-05,  4.4700e-05,\n",
       "          4.9962e-05,  3.5441e-05,  3.3049e-05,  3.3738e-05,  3.9142e-05,\n",
       "          4.0915e-05,  3.6818e-05,  3.8973e-05,  3.3707e-05,  4.7061e-05,\n",
       "          5.2375e-05,  4.9692e-05,  3.7620e-05,  3.9515e-05,  4.5962e-05,\n",
       "          3.6879e-05,  3.2189e-05,  3.4629e-05,  3.2837e-05,  4.2963e-05,\n",
       "          3.2352e-05,  3.6564e-05,  3.2075e-05,  3.2362e-05,  3.2053e-05,\n",
       "          3.7072e-05,  3.6784e-05]])"
      ]
     },
     "execution_count": 123,
     "metadata": {},
     "output_type": "execute_result"
    }
   ],
   "source": [
    "torch.linalg.det(smoothed_cov1)"
   ]
  },
  {
   "cell_type": "code",
   "execution_count": 213,
   "metadata": {},
   "outputs": [],
   "source": [
    "from pykalman import KalmanFilter\n",
    "import numpy as np\n",
    "A = np.array([\n",
    "    [1, 0, 1, 0],\n",
    "    [0, 1, 0, 0],\n",
    "    [0, 0, 1, 0],\n",
    "    [0, 0, 0, 1]\n",
    "])\n",
    "Q = 0.08*np.eye(4)\n",
    "R = 0.03*np.eye(2)\n",
    "C = np.array([\n",
    "    [1, 0, 0, 0],\n",
    "    [0, 1, 0, 0]\n",
    "])\n",
    "kf = KalmanFilter(transition_matrices=A_t[5,1:].numpy(), observation_matrices=C_t[5].numpy(), transition_covariance=Q, \n",
    "                  observation_covariance=R, initial_state_mean=np.zeros(4),\n",
    "                  initial_state_covariance=20*np.eye(4))\n",
    "points = np.load('datasets/trimmed_datapoints.npy')[0][:10]"
   ]
  },
  {
   "cell_type": "code",
   "execution_count": 161,
   "metadata": {},
   "outputs": [
    {
     "name": "stdout",
     "output_type": "stream",
     "text": [
      "torch.Size([15, 32, 2])\n"
     ]
    }
   ],
   "source": [
    "print(obs.size())"
   ]
  },
  {
   "cell_type": "code",
   "execution_count": 214,
   "metadata": {},
   "outputs": [],
   "source": [
    "(filtered_state_means, filtered_state_covariances) = kf.filter(obs[:,5].numpy())\n",
    "(smoothed_state_means, smoothed_state_covariances) = kf.smooth(obs[:,5].numpy())"
   ]
  },
  {
   "cell_type": "code",
   "execution_count": 195,
   "metadata": {},
   "outputs": [
    {
     "ename": "AttributeError",
     "evalue": "'KalmanFilter' object has no attribute '_smooth'",
     "output_type": "error",
     "traceback": [
      "\u001b[0;31m---------------------------------------------------------------------------\u001b[0m",
      "\u001b[0;31mAttributeError\u001b[0m                            Traceback (most recent call last)",
      "\u001b[0;32m/tmp/ipykernel_1039222/2697011802.py\u001b[0m in \u001b[0;36m<module>\u001b[0;34m\u001b[0m\n\u001b[0;32m----> 1\u001b[0;31m \u001b[0mkf\u001b[0m\u001b[0;34m.\u001b[0m\u001b[0m_smooth\u001b[0m\u001b[0;34m(\u001b[0m\u001b[0mobs\u001b[0m\u001b[0;34m[\u001b[0m\u001b[0;34m:\u001b[0m\u001b[0;34m,\u001b[0m\u001b[0;36m5\u001b[0m\u001b[0;34m]\u001b[0m\u001b[0;34m.\u001b[0m\u001b[0mnumpy\u001b[0m\u001b[0;34m(\u001b[0m\u001b[0;34m)\u001b[0m\u001b[0;34m)\u001b[0m\u001b[0;34m\u001b[0m\u001b[0;34m\u001b[0m\u001b[0m\n\u001b[0m",
      "\u001b[0;31mAttributeError\u001b[0m: 'KalmanFilter' object has no attribute '_smooth'"
     ]
    }
   ],
   "source": [
    "kf._sm"
   ]
  },
  {
   "cell_type": "code",
   "execution_count": 220,
   "metadata": {},
   "outputs": [
    {
     "data": {
      "text/plain": [
       "tensor([4.6854e-02, 1.1070e-06, 1.0927e-06, 1.1270e-06, 1.0096e-06, 1.0866e-06,\n",
       "        1.0931e-06, 1.3040e-06, 1.3809e-06, 1.4235e-06, 1.6187e-06, 1.8287e-06,\n",
       "        2.1697e-06, 2.3959e-06, 3.6076e-06], dtype=torch.float64)"
      ]
     },
     "execution_count": 220,
     "metadata": {},
     "output_type": "execute_result"
    }
   ],
   "source": [
    "torch.linalg.det(torch.from_numpy(smoothed_state_covariances))"
   ]
  },
  {
   "cell_type": "code",
   "execution_count": 221,
   "metadata": {},
   "outputs": [
    {
     "data": {
      "text/plain": [
       "tensor([4.6856e-02, 1.1070e-06, 1.0927e-06, 1.1270e-06, 1.0096e-06, 1.0866e-06,\n",
       "        1.0931e-06, 1.3040e-06, 1.3809e-06, 1.4235e-06, 1.6187e-06, 1.8287e-06,\n",
       "        2.1697e-06, 2.3959e-06, 3.6076e-06], device='cuda:0')"
      ]
     },
     "execution_count": 221,
     "metadata": {},
     "output_type": "execute_result"
    }
   ],
   "source": [
    "torch.linalg.det(smoooth[1][:,5,:,:])"
   ]
  },
  {
   "cell_type": "code",
   "execution_count": 222,
   "metadata": {},
   "outputs": [
    {
     "data": {
      "text/plain": [
       "array([[ 9.56760022e+00,  2.11193822e+00,  6.18172624e+00,\n",
       "         1.10753267e+00],\n",
       "       [ 2.40075214e+00,  7.48972007e-01, -1.58744427e+00,\n",
       "        -1.84152784e+00],\n",
       "       [ 2.32200393e+00,  7.68538984e-01, -1.52551971e+00,\n",
       "        -1.86565373e+00],\n",
       "       [ 1.34243462e+00,  1.27861197e+00, -6.64422061e-01,\n",
       "        -1.83874470e+00],\n",
       "       [ 1.07220678e+00,  1.17369377e+00, -4.89412118e-01,\n",
       "        -1.61736547e+00],\n",
       "       [ 9.93393832e-01,  1.21357787e+00, -3.53964867e-01,\n",
       "        -1.57082712e+00],\n",
       "       [ 7.90703861e-01,  1.10228870e+00, -2.94490711e-01,\n",
       "        -1.40049557e+00],\n",
       "       [ 7.58225910e-01,  1.15740149e+00, -2.18504607e-01,\n",
       "        -1.40314340e+00],\n",
       "       [ 6.69454422e-01,  1.21093709e+00, -1.23960944e-01,\n",
       "        -1.39578837e+00],\n",
       "       [ 5.82232747e-01,  1.13922326e+00, -9.88303150e-02,\n",
       "        -1.29670033e+00],\n",
       "       [ 4.69581731e-01,  1.15078495e+00, -6.68132233e-03,\n",
       "        -1.24282408e+00],\n",
       "       [ 3.40311454e-01,  1.14942206e+00,  7.43416512e-02,\n",
       "        -1.18150400e+00],\n",
       "       [ 3.18123209e-01,  1.18804536e+00,  1.26117582e-01,\n",
       "        -1.18794301e+00],\n",
       "       [ 2.82043121e-01,  1.22307194e+00,  1.72037844e-01,\n",
       "        -1.19497112e+00],\n",
       "       [ 2.05974178e-01,  1.22002886e+00,  2.06884331e-01,\n",
       "        -1.16571223e+00]])"
      ]
     },
     "execution_count": 222,
     "metadata": {},
     "output_type": "execute_result"
    }
   ],
   "source": [
    "smoothed_state_means"
   ]
  },
  {
   "cell_type": "code",
   "execution_count": 223,
   "metadata": {},
   "outputs": [
    {
     "data": {
      "text/plain": [
       "tensor([[ 9.5676e+00,  2.1119e+00,  6.1817e+00,  1.1075e+00],\n",
       "        [ 2.4008e+00,  7.4897e-01, -1.5874e+00, -1.8415e+00],\n",
       "        [ 2.3220e+00,  7.6854e-01, -1.5255e+00, -1.8657e+00],\n",
       "        [ 1.3424e+00,  1.2786e+00, -6.6442e-01, -1.8387e+00],\n",
       "        [ 1.0722e+00,  1.1737e+00, -4.8941e-01, -1.6174e+00],\n",
       "        [ 9.9339e-01,  1.2136e+00, -3.5396e-01, -1.5708e+00],\n",
       "        [ 7.9070e-01,  1.1023e+00, -2.9449e-01, -1.4005e+00],\n",
       "        [ 7.5823e-01,  1.1574e+00, -2.1850e-01, -1.4031e+00],\n",
       "        [ 6.6945e-01,  1.2109e+00, -1.2396e-01, -1.3958e+00],\n",
       "        [ 5.8223e-01,  1.1392e+00, -9.8830e-02, -1.2967e+00],\n",
       "        [ 4.6958e-01,  1.1508e+00, -6.6813e-03, -1.2428e+00],\n",
       "        [ 3.4031e-01,  1.1494e+00,  7.4342e-02, -1.1815e+00],\n",
       "        [ 3.1812e-01,  1.1880e+00,  1.2612e-01, -1.1879e+00],\n",
       "        [ 2.8204e-01,  1.2231e+00,  1.7204e-01, -1.1950e+00],\n",
       "        [ 2.0597e-01,  1.2200e+00,  2.0688e-01, -1.1657e+00]], device='cuda:0')"
      ]
     },
     "execution_count": 223,
     "metadata": {},
     "output_type": "execute_result"
    }
   ],
   "source": [
    "smoooth[0][:,5,:,0]"
   ]
  },
  {
   "cell_type": "code",
   "execution_count": 189,
   "metadata": {},
   "outputs": [
    {
     "data": {
      "text/plain": [
       "tensor([-5.1020e-02,  1.0816e-06,  1.0922e-06,  1.1271e-06,  1.0095e-06,\n",
       "         1.0866e-06,  1.0930e-06,  1.3038e-06,  1.3808e-06,  1.4231e-06,\n",
       "         1.6180e-06,  1.8276e-06,  2.1683e-06,  2.3954e-06,  3.6073e-06],\n",
       "       device='cuda:0')"
      ]
     },
     "execution_count": 189,
     "metadata": {},
     "output_type": "execute_result"
    }
   ],
   "source": [
    "torch.linalg.det(smoooth[1][:,5])"
   ]
  },
  {
   "cell_type": "code",
   "execution_count": 156,
   "metadata": {},
   "outputs": [
    {
     "ename": "TypeError",
     "evalue": "super(type, obj): obj must be an instance or subtype of type",
     "output_type": "error",
     "traceback": [
      "\u001b[0;31m---------------------------------------------------------------------------\u001b[0m",
      "\u001b[0;31mTypeError\u001b[0m                                 Traceback (most recent call last)",
      "\u001b[0;32m/tmp/ipykernel_1039222/672794763.py\u001b[0m in \u001b[0;36m<module>\u001b[0;34m\u001b[0m\n\u001b[0;32m----> 1\u001b[0;31m \u001b[0mkvae\u001b[0m \u001b[0;34m=\u001b[0m \u001b[0mKalmanVAE\u001b[0m\u001b[0;34m(\u001b[0m\u001b[0;36m1\u001b[0m\u001b[0;34m,\u001b[0m\u001b[0;36m128\u001b[0m\u001b[0;34m,\u001b[0m\u001b[0;36m2\u001b[0m\u001b[0;34m,\u001b[0m\u001b[0;36m4\u001b[0m\u001b[0;34m,\u001b[0m\u001b[0;36m1\u001b[0m\u001b[0;34m,\u001b[0m\u001b[0;36m1\u001b[0m\u001b[0;34m,\u001b[0m \u001b[0;34m'rnn'\u001b[0m\u001b[0;34m)\u001b[0m\u001b[0;34m.\u001b[0m\u001b[0mfloat\u001b[0m\u001b[0;34m(\u001b[0m\u001b[0;34m)\u001b[0m\u001b[0;34m\u001b[0m\u001b[0;34m\u001b[0m\u001b[0m\n\u001b[0m",
      "\u001b[0;32m~/codebase/bouncing-ball/models/KalmanVAE.py\u001b[0m in \u001b[0;36m__init__\u001b[0;34m(self, input_dim, hidden_dim, obs_dim, latent_dim, num_modes, beta, alpha)\u001b[0m\n\u001b[1;32m     11\u001b[0m \u001b[0;32mclass\u001b[0m \u001b[0mKalmanVAE\u001b[0m\u001b[0;34m(\u001b[0m\u001b[0mnn\u001b[0m\u001b[0;34m.\u001b[0m\u001b[0mModule\u001b[0m\u001b[0;34m)\u001b[0m\u001b[0;34m:\u001b[0m\u001b[0;34m\u001b[0m\u001b[0;34m\u001b[0m\u001b[0m\n\u001b[1;32m     12\u001b[0m     \u001b[0;32mdef\u001b[0m \u001b[0m__init__\u001b[0m\u001b[0;34m(\u001b[0m\u001b[0mself\u001b[0m\u001b[0;34m,\u001b[0m \u001b[0minput_dim\u001b[0m\u001b[0;34m,\u001b[0m \u001b[0mhidden_dim\u001b[0m\u001b[0;34m,\u001b[0m \u001b[0mobs_dim\u001b[0m\u001b[0;34m,\u001b[0m \u001b[0mlatent_dim\u001b[0m\u001b[0;34m,\u001b[0m \u001b[0mnum_modes\u001b[0m\u001b[0;34m,\u001b[0m \u001b[0mbeta\u001b[0m\u001b[0;34m=\u001b[0m\u001b[0;36m1\u001b[0m\u001b[0;34m,\u001b[0m \u001b[0malpha\u001b[0m\u001b[0;34m=\u001b[0m\u001b[0;34m'mlp'\u001b[0m\u001b[0;34m)\u001b[0m\u001b[0;34m:\u001b[0m\u001b[0;34m\u001b[0m\u001b[0;34m\u001b[0m\u001b[0m\n\u001b[0;32m---> 13\u001b[0;31m         \u001b[0msuper\u001b[0m\u001b[0;34m(\u001b[0m\u001b[0mKalmanVAE\u001b[0m\u001b[0;34m,\u001b[0m \u001b[0mself\u001b[0m\u001b[0;34m)\u001b[0m\u001b[0;34m.\u001b[0m\u001b[0m__init__\u001b[0m\u001b[0;34m(\u001b[0m\u001b[0;34m)\u001b[0m\u001b[0;34m\u001b[0m\u001b[0;34m\u001b[0m\u001b[0m\n\u001b[0m\u001b[1;32m     14\u001b[0m         \u001b[0mself\u001b[0m\u001b[0;34m.\u001b[0m\u001b[0minput_dim\u001b[0m \u001b[0;34m=\u001b[0m \u001b[0minput_dim\u001b[0m\u001b[0;34m\u001b[0m\u001b[0;34m\u001b[0m\u001b[0m\n\u001b[1;32m     15\u001b[0m         \u001b[0mself\u001b[0m\u001b[0;34m.\u001b[0m\u001b[0mhidden_dim\u001b[0m \u001b[0;34m=\u001b[0m \u001b[0mhidden_dim\u001b[0m\u001b[0;34m\u001b[0m\u001b[0;34m\u001b[0m\u001b[0m\n",
      "\u001b[0;31mTypeError\u001b[0m: super(type, obj): obj must be an instance or subtype of type"
     ]
    }
   ],
   "source": [
    "kvae = KalmanVAE(1,128,2,4,1,1, 'rnn').float()"
   ]
  },
  {
   "cell_type": "code",
   "execution_count": 54,
   "metadata": {},
   "outputs": [],
   "source": [
    "A_t = torch.from_numpy(A).unsqueeze(0).unsqueeze(0).repeat(1,10,1,1).cuda().float()\n",
    "C_t = torch.from_numpy(C).unsqueeze(0).unsqueeze(0).repeat(1,10,1,1).cuda().float()\n",
    "(m, cov), (p_m, p_c) = kvae._filter_posterior(torch.from_numpy(points).unsqueeze(0).transpose(0,1).cuda().float(), A_t, C_t)"
   ]
  },
  {
   "cell_type": "code",
   "execution_count": 58,
   "metadata": {},
   "outputs": [],
   "source": [
    "smooth_m, smooth_c = kvae._smooth_posterior(A_t, (m,cov), (p_m, p_c))"
   ]
  },
  {
   "cell_type": "code",
   "execution_count": 66,
   "metadata": {},
   "outputs": [
    {
     "data": {
      "text/plain": [
       "tensor([[[ 2.7046e-02,  0.0000e+00, -1.5178e-02,  0.0000e+00],\n",
       "         [ 0.0000e+00,  2.3219e-02,  0.0000e+00,  0.0000e+00],\n",
       "         [-1.5178e-02,  0.0000e+00,  6.1729e-02,  0.0000e+00],\n",
       "         [ 0.0000e+00,  0.0000e+00,  0.0000e+00,  2.0000e+01]],\n",
       "\n",
       "        [[ 2.1304e-02,  0.0000e+00, -4.6693e-03,  0.0000e+00],\n",
       "         [ 0.0000e+00,  1.9189e-02,  0.0000e+00,  0.0000e+00],\n",
       "         [-4.6693e-03,  0.0000e+00,  4.2795e-02,  0.0000e+00],\n",
       "         [ 0.0000e+00,  0.0000e+00,  0.0000e+00,  2.0080e+01]],\n",
       "\n",
       "        [[ 2.1291e-02,  0.0000e+00, -4.8781e-03,  0.0000e+00],\n",
       "         [ 0.0000e+00,  1.8985e-02,  0.0000e+00,  0.0000e+00],\n",
       "         [-4.8781e-03,  0.0000e+00,  3.9851e-02,  0.0000e+00],\n",
       "         [ 0.0000e+00,  0.0000e+00,  0.0000e+00,  2.0160e+01]],\n",
       "\n",
       "        [[ 2.1198e-02,  0.0000e+00, -5.0563e-03,  0.0000e+00],\n",
       "         [ 0.0000e+00,  1.8974e-02,  0.0000e+00,  0.0000e+00],\n",
       "         [-5.0563e-03,  0.0000e+00,  3.9508e-02,  0.0000e+00],\n",
       "         [ 0.0000e+00,  0.0000e+00,  0.0000e+00,  2.0240e+01]],\n",
       "\n",
       "        [[ 2.1171e-02,  0.0000e+00, -5.0874e-03,  0.0000e+00],\n",
       "         [ 0.0000e+00,  1.8974e-02,  0.0000e+00,  0.0000e+00],\n",
       "         [-5.0874e-03,  0.0000e+00,  3.9479e-02,  0.0000e+00],\n",
       "         [ 0.0000e+00,  0.0000e+00,  0.0000e+00,  2.0320e+01]],\n",
       "\n",
       "        [[ 2.1171e-02,  0.0000e+00, -5.1032e-03,  0.0000e+00],\n",
       "         [ 0.0000e+00,  1.8974e-02,  0.0000e+00,  0.0000e+00],\n",
       "         [-5.1032e-03,  0.0000e+00,  3.9508e-02,  0.0000e+00],\n",
       "         [ 0.0000e+00,  0.0000e+00,  0.0000e+00,  2.0400e+01]],\n",
       "\n",
       "        [[ 2.1199e-02,  0.0000e+00, -5.2023e-03,  0.0000e+00],\n",
       "         [ 0.0000e+00,  1.8974e-02,  0.0000e+00,  0.0000e+00],\n",
       "         [-5.2023e-03,  0.0000e+00,  3.9854e-02,  0.0000e+00],\n",
       "         [ 0.0000e+00,  0.0000e+00,  0.0000e+00,  2.0480e+01]],\n",
       "\n",
       "        [[ 2.1292e-02,  0.0000e+00, -5.7289e-03,  0.0000e+00],\n",
       "         [ 0.0000e+00,  1.8985e-02,  0.0000e+00,  0.0000e+00],\n",
       "         [-5.7289e-03,  0.0000e+00,  4.2824e-02,  0.0000e+00],\n",
       "         [ 0.0000e+00,  0.0000e+00,  0.0000e+00,  2.0560e+01]],\n",
       "\n",
       "        [[ 2.1307e-02,  0.0000e+00, -6.2714e-03,  0.0000e+00],\n",
       "         [ 0.0000e+00,  1.9190e-02,  0.0000e+00,  0.0000e+00],\n",
       "         [-6.2714e-03,  0.0000e+00,  6.2173e-02,  0.0000e+00],\n",
       "         [ 0.0000e+00,  0.0000e+00,  0.0000e+00,  2.0640e+01]],\n",
       "\n",
       "        [[ 2.7095e-02,  0.0000e+00,  1.5246e-02,  0.0000e+00],\n",
       "         [ 0.0000e+00,  2.3246e-02,  0.0000e+00,  0.0000e+00],\n",
       "         [ 1.5246e-02,  0.0000e+00,  1.4217e-01,  0.0000e+00],\n",
       "         [ 0.0000e+00,  0.0000e+00,  0.0000e+00,  2.0720e+01]]],\n",
       "       device='cuda:0')"
      ]
     },
     "execution_count": 66,
     "metadata": {},
     "output_type": "execute_result"
    }
   ],
   "source": [
    "smooth_c[:,0,:,:]"
   ]
  },
  {
   "cell_type": "code",
   "execution_count": 63,
   "metadata": {},
   "outputs": [
    {
     "data": {
      "text/plain": [
       "array([[[ 2.70463096e-02, -7.88541706e-19, -1.51781291e-02,\n",
       "          0.00000000e+00],\n",
       "        [-7.88541706e-19,  2.32185668e-02,  3.99801577e-18,\n",
       "          0.00000000e+00],\n",
       "        [-1.51781291e-02,  3.99801577e-18,  6.19689213e-02,\n",
       "          0.00000000e+00],\n",
       "        [ 0.00000000e+00,  0.00000000e+00,  0.00000000e+00,\n",
       "          2.00000000e+01]],\n",
       "\n",
       "       [[ 2.13042813e-02, -2.01768556e-20, -4.66926562e-03,\n",
       "          0.00000000e+00],\n",
       "        [-2.01768556e-20,  1.91888473e-02,  1.21241105e-19,\n",
       "          0.00000000e+00],\n",
       "        [-4.66926562e-03,  1.21241105e-19,  4.27947974e-02,\n",
       "          0.00000000e+00],\n",
       "        [ 0.00000000e+00,  0.00000000e+00,  0.00000000e+00,\n",
       "          2.00800000e+01]],\n",
       "\n",
       "       [[ 2.12905423e-02, -5.35899874e-20, -4.87813399e-03,\n",
       "          0.00000000e+00],\n",
       "        [-5.35899874e-20,  1.89845739e-02,  1.29279254e-18,\n",
       "          0.00000000e+00],\n",
       "        [-4.87813399e-03,  1.29279254e-18,  3.98512509e-02,\n",
       "          0.00000000e+00],\n",
       "        [ 0.00000000e+00,  0.00000000e+00,  0.00000000e+00,\n",
       "          2.01600000e+01]],\n",
       "\n",
       "       [[ 2.11982385e-02, -6.58115543e-19, -5.05634763e-03,\n",
       "          0.00000000e+00],\n",
       "        [-6.58115543e-19,  1.89742190e-02, -5.73186974e-18,\n",
       "          0.00000000e+00],\n",
       "        [-5.05634763e-03, -5.73186974e-18,  3.95081742e-02,\n",
       "          0.00000000e+00],\n",
       "        [ 0.00000000e+00,  0.00000000e+00,  0.00000000e+00,\n",
       "          2.02400000e+01]],\n",
       "\n",
       "       [[ 2.11708956e-02, -6.08092386e-20, -5.08741426e-03,\n",
       "          0.00000000e+00],\n",
       "        [-6.08092386e-20,  1.89736954e-02,  1.28115114e-18,\n",
       "          0.00000000e+00],\n",
       "        [-5.08741426e-03,  1.28115114e-18,  3.94786106e-02,\n",
       "          0.00000000e+00],\n",
       "        [ 0.00000000e+00,  0.00000000e+00,  0.00000000e+00,\n",
       "          2.03200000e+01]],\n",
       "\n",
       "       [[ 2.11709375e-02, -6.41716167e-19, -5.10318270e-03,\n",
       "          0.00000000e+00],\n",
       "        [-6.41716167e-19,  1.89736956e-02, -5.69473385e-18,\n",
       "          0.00000000e+00],\n",
       "        [-5.10318270e-03, -5.69473385e-18,  3.95084547e-02,\n",
       "          0.00000000e+00],\n",
       "        [ 0.00000000e+00,  0.00000000e+00,  0.00000000e+00,\n",
       "          2.04000000e+01]],\n",
       "\n",
       "       [[ 2.11985470e-02, -4.28114334e-20, -5.20225691e-03,\n",
       "          0.00000000e+00],\n",
       "        [-4.28114334e-20,  1.89742225e-02,  1.22046597e-18,\n",
       "          0.00000000e+00],\n",
       "        [-5.20225691e-03,  1.22046597e-18,  3.98544220e-02,\n",
       "          0.00000000e+00],\n",
       "        [ 0.00000000e+00,  0.00000000e+00,  0.00000000e+00,\n",
       "          2.04800000e+01]],\n",
       "\n",
       "       [[ 2.12918758e-02, -6.20521664e-19, -5.72884800e-03,\n",
       "          0.00000000e+00],\n",
       "        [-6.20521664e-19,  1.89846432e-02, -5.78655746e-18,\n",
       "          0.00000000e+00],\n",
       "        [-5.72884800e-03, -5.78655746e-18,  4.28235689e-02,\n",
       "          0.00000000e+00],\n",
       "        [ 0.00000000e+00,  0.00000000e+00,  0.00000000e+00,\n",
       "          2.05600000e+01]],\n",
       "\n",
       "       [[ 2.13070833e-02,  0.00000000e+00, -6.27138817e-03,\n",
       "          0.00000000e+00],\n",
       "        [ 0.00000000e+00,  1.91902153e-02,  0.00000000e+00,\n",
       "          0.00000000e+00],\n",
       "        [-6.27138817e-03,  0.00000000e+00,  6.21731316e-02,\n",
       "          0.00000000e+00],\n",
       "        [ 0.00000000e+00,  0.00000000e+00,  0.00000000e+00,\n",
       "          2.06400000e+01]],\n",
       "\n",
       "       [[ 2.70945202e-02,  0.00000000e+00,  1.52459300e-02,\n",
       "          0.00000000e+00],\n",
       "        [ 0.00000000e+00,  2.32455532e-02,  0.00000000e+00,\n",
       "          0.00000000e+00],\n",
       "        [ 1.52459300e-02,  0.00000000e+00,  1.42173132e-01,\n",
       "          0.00000000e+00],\n",
       "        [ 0.00000000e+00,  0.00000000e+00,  0.00000000e+00,\n",
       "          2.07200000e+01]]])"
      ]
     },
     "execution_count": 63,
     "metadata": {},
     "output_type": "execute_result"
    }
   ],
   "source": [
    "smoothed_state_covariances"
   ]
  }
 ],
 "metadata": {
  "interpreter": {
   "hash": "ff27035c8dc0a26468b79942def09685664b2e815f4bca7e9395dcaceb48c986"
  },
  "kernelspec": {
   "display_name": "Python 3.8.10 ('py38_pytorch')",
   "language": "python",
   "name": "python3"
  },
  "language_info": {
   "codemirror_mode": {
    "name": "ipython",
    "version": 3
   },
   "file_extension": ".py",
   "mimetype": "text/x-python",
   "name": "python",
   "nbconvert_exporter": "python",
   "pygments_lexer": "ipython3",
   "version": "3.8.10"
  },
  "orig_nbformat": 4
 },
 "nbformat": 4,
 "nbformat_minor": 2
}
