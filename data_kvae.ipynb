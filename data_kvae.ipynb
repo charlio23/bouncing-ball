{
 "cells": [
  {
   "cell_type": "code",
   "execution_count": 45,
   "metadata": {},
   "outputs": [],
   "source": [
    "import numpy as np\n",
    "import matplotlib.pyplot as plt\n",
    "from torch.utils import data\n",
    "import os \n",
    "from os import path\n",
    "from glob import glob\n",
    "\n",
    "class SquareBallDataset(data.Dataset):\n",
    "    def __init__(self, img_dir, mask_dir):\n",
    "        self.img_dir = img_dir\n",
    "        self.mask_dir = mask_dir\n",
    "        self.img_labels = self.img_dir\n",
    "        try:\n",
    "            self.img_filenames = glob(f\"{self.img_dir}/*\")\n",
    "        except:\n",
    "            raise ValueError(\"img_dir incorrect\")\n",
    "        try:\n",
    "            self.mask_filenames = glob(f\"{self.mask_dir}/*\")\n",
    "        except:\n",
    "            raise ValueError(\"mask_dir incorrect\")\n",
    "\n",
    "    def __len__(self):\n",
    "        return len(self.img_filenames)\n",
    "\n",
    "    def __getitem__(self, idx):\n",
    "        img_path = self.img_filenames[idx]\n",
    "        mask_path = self.mask_filenames[idx]\n",
    "         \n",
    "        img = np.load(img_path)[\"images\"]\n",
    "        mask_train = np.load(mask_path)[\"masks\"]\n",
    "        return img, mask_train"
   ]
  },
  {
   "cell_type": "code",
   "execution_count": null,
   "metadata": {},
   "outputs": [],
   "source": [
    "dl = SquareBallDataset('/data2/users/hbz15/2_body_black_white_real/train_corrupt', '/data2/users/hbz15/2_body_black_white_real/mask_train')\n",
    "train_loader = data.DataLoader(dl, batch_size=4, shuffle=True, num_workers=4)\n",
    "sample = next(iter(train_loader))\n",
    "sample[1].size()"
   ]
  },
  {
   "cell_type": "code",
   "execution_count": 52,
   "metadata": {},
   "outputs": [],
   "source": [
    "import numpy as np\n",
    "import matplotlib.pyplot as plt\n",
    "from torch.utils import data\n",
    "import os \n",
    "from os import path\n",
    "from glob import glob\n",
    "\n",
    "class MissingBallDataset(data.Dataset):\n",
    "    def __init__(self, img_dir):\n",
    "        self.img_dir = img_dir\n",
    "        self.img_labels = self.img_dir\n",
    "        try:\n",
    "            self.img_filenames = glob(f\"{self.img_dir}/*\")\n",
    "        except:\n",
    "            raise ValueError(\"img_dir incorrect\")\n",
    "\n",
    "    def __len__(self):\n",
    "        return len(self.img_filenames)\n",
    "\n",
    "    def __getitem__(self, idx):\n",
    "        img_path = self.img_filenames[idx]\n",
    "         \n",
    "        stored_obj = np.load(img_path)\n",
    "        img = stored_obj[\"images\"]\n",
    "        t = stored_obj[\"t\"]\n",
    "        # missing_frames = stored_obj[\"missing_frames\"]\n",
    "        missing_mask = stored_obj[\"missing_mask\"]\n",
    "        seq_length_train = stored_obj[\"seq_length\"]\n",
    "        return img, t, missing_mask, seq_length_train"
   ]
  },
  {
   "cell_type": "code",
   "execution_count": 55,
   "metadata": {},
   "outputs": [
    {
     "data": {
      "text/plain": [
       "torch.Size([4, 100, 32, 32])"
      ]
     },
     "execution_count": 55,
     "metadata": {},
     "output_type": "execute_result"
    }
   ],
   "source": [
    "dl = MissingBallDataset('/data2/users/hbz15/2_body_black_white_real/train_missing_frame')\n",
    "train_loader = data.DataLoader(dl, batch_size=4, shuffle=True, num_workers=4)\n",
    "sample = next(iter(train_loader))\n",
    "sample[0].size()"
   ]
  }
 ],
 "metadata": {
  "interpreter": {
   "hash": "ff27035c8dc0a26468b79942def09685664b2e815f4bca7e9395dcaceb48c986"
  },
  "kernelspec": {
   "display_name": "Python 3.8.10 ('py38_pytorch')",
   "language": "python",
   "name": "python3"
  },
  "language_info": {
   "codemirror_mode": {
    "name": "ipython",
    "version": 3
   },
   "file_extension": ".py",
   "mimetype": "text/x-python",
   "name": "python",
   "nbconvert_exporter": "python",
   "pygments_lexer": "ipython3",
   "version": "3.8.10"
  },
  "orig_nbformat": 4
 },
 "nbformat": 4,
 "nbformat_minor": 2
}
