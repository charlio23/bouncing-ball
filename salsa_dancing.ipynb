{
 "cells": [
  {
   "attachments": {},
   "cell_type": "markdown",
   "metadata": {},
   "source": [
    "# Salsa CMU dataset"
   ]
  },
  {
   "cell_type": "code",
   "execution_count": 1,
   "metadata": {},
   "outputs": [],
   "source": [
    "%load_ext autoreload"
   ]
  },
  {
   "cell_type": "code",
   "execution_count": 2,
   "metadata": {},
   "outputs": [],
   "source": [
    "%autoreload 2\n",
    "import os\n",
    "from torch.utils.data import TensorDataset, DataLoader\n",
    "import torch\n",
    "import numpy as np\n",
    "from models.KalmanVAE import KalmanVAE\n",
    "from matplotlib import pyplot as plt"
   ]
  },
  {
   "cell_type": "code",
   "execution_count": 2,
   "metadata": {},
   "outputs": [
    {
     "ename": "FileNotFoundError",
     "evalue": "[Errno 2] No such file or directory: 'data/salsa_mocap/'",
     "output_type": "error",
     "traceback": [
      "\u001b[0;31m---------------------------------------------------------------------------\u001b[0m",
      "\u001b[0;31mFileNotFoundError\u001b[0m                         Traceback (most recent call last)",
      "\u001b[1;32m/homes/cb221/codebase/bouncing-ball/salsa_dancing.ipynb Cell 4\u001b[0m in \u001b[0;36m<cell line: 1>\u001b[0;34m()\u001b[0m\n\u001b[0;32m----> <a href='vscode-notebook-cell://ssh-remote%2Bbluejay/homes/cb221/codebase/bouncing-ball/salsa_dancing.ipynb#W3sdnNjb2RlLXJlbW90ZQ%3D%3D?line=0'>1</a>\u001b[0m files \u001b[39m=\u001b[39m \u001b[39msorted\u001b[39m(os\u001b[39m.\u001b[39;49mlistdir(\u001b[39m'\u001b[39;49m\u001b[39mdata/salsa_mocap/\u001b[39;49m\u001b[39m'\u001b[39;49m))\n\u001b[1;32m      <a href='vscode-notebook-cell://ssh-remote%2Bbluejay/homes/cb221/codebase/bouncing-ball/salsa_dancing.ipynb#W3sdnNjb2RlLXJlbW90ZQ%3D%3D?line=1'>2</a>\u001b[0m \u001b[39mprint\u001b[39m(files[\u001b[39m20\u001b[39m])\n",
      "\u001b[0;31mFileNotFoundError\u001b[0m: [Errno 2] No such file or directory: 'data/salsa_mocap/'"
     ]
    }
   ],
   "source": [
    "files = sorted(os.listdir('data/salsa_mocap/'))\n",
    "print(files[20])"
   ]
  },
  {
   "cell_type": "code",
   "execution_count": 3,
   "metadata": {},
   "outputs": [
    {
     "name": "stdout",
     "output_type": "stream",
     "text": [
      "KalmanVAE(\n",
      "  (encoder): MLP(\n",
      "    (fc1): Linear(in_features=123, out_features=256, bias=True)\n",
      "    (fc2): Linear(in_features=256, out_features=256, bias=True)\n",
      "    (fc_final): Linear(in_features=256, out_features=128, bias=True)\n",
      "  )\n",
      "  (decoder): MLP(\n",
      "    (fc1): Linear(in_features=64, out_features=256, bias=True)\n",
      "    (fc2): Linear(in_features=256, out_features=256, bias=True)\n",
      "    (fc_final): Linear(in_features=256, out_features=123, bias=True)\n",
      "  )\n",
      "  (parameter_net): LSTM(64, 256, num_layers=2, batch_first=True)\n",
      "  (alpha_out): Linear(in_features=256, out_features=3, bias=True)\n",
      ")\n"
     ]
    }
   ],
   "source": [
    "kvae = KalmanVAE(input_dim=41*3, hidden_dim=256, obs_dim=64, \n",
    "                     latent_dim=64, num_modes=3, beta=1, alpha='rnn').float().cpu()\n",
    "print(kvae)\n",
    "checkpoint = torch.load('/data2/users/cb221/stored_models_KVAE_salsa/salsa_warmup_temperature_0.5_200_warmup_latest.pth.tar')\n",
    "kvae.load_state_dict(checkpoint['kvae'])\n",
    "kvae.R = kvae.R.cpu()\n",
    "kvae.Q = kvae.Q.cpu()\n",
    "kvae.Sigma_1 = kvae.Sigma_1.cpu()\n",
    "kvae.mu_1 = kvae.mu_1.cpu()"
   ]
  },
  {
   "cell_type": "code",
   "execution_count": 4,
   "metadata": {},
   "outputs": [],
   "source": [
    "obs = torch.from_numpy(np.load(\"new_salsa_data_preprocessed.npy\")).float().cpu()\n",
    "dl = TensorDataset(obs)\n",
    "train_loader = DataLoader(dl, batch_size=30, shuffle=False)"
   ]
  },
  {
   "cell_type": "code",
   "execution_count": 5,
   "metadata": {},
   "outputs": [],
   "source": [
    "with torch.no_grad():\n",
    "    input = next(iter(train_loader))[0]\n",
    "    gamma = kvae.get_alpha_from_obs(input.cpu(), variational=True).reshape(30,200,-1)"
   ]
  },
  {
   "cell_type": "code",
   "execution_count": 6,
   "metadata": {},
   "outputs": [
    {
     "name": "stdout",
     "output_type": "stream",
     "text": [
      "496\n",
      "556\n",
      "680\n",
      "756\n",
      "948\n",
      "980\n",
      "1048\n"
     ]
    }
   ],
   "source": [
    "files_starting_point = [260, 240, 240, 240, 280, 140, 120, 260, 380, 300, 240, 240, 240, 160, 240, 260, 260, 240, 240, 280, 140, 120, 260, 380, 300, 240, 240, 240, 160, 260]\n",
    "start = files_starting_point[0]\n",
    "states = gamma[2].argmax(-1)\n",
    "l = list(range(0 + start,200*4 + start,4))\n",
    "for i in range(1,200):\n",
    "    if states[i] != states[i-1]:\n",
    "        print(l[i])\n"
   ]
  },
  {
   "cell_type": "code",
   "execution_count": 7,
   "metadata": {},
   "outputs": [
    {
     "data": {
      "text/plain": [
       "<matplotlib.colorbar.Colorbar at 0x7fe5001cb850>"
      ]
     },
     "execution_count": 7,
     "metadata": {},
     "output_type": "execute_result"
    },
    {
     "data": {
      "image/png": "[encoded data removed]",
      "text/plain": [
       "<Figure size 1000x400 with 2 Axes>"
      ]
     },
     "metadata": {},
     "output_type": "display_data"
    }
   ],
   "source": [
    "plt.figure(figsize=(10,4))\n",
    "plt.subplot(211)\n",
    "plt.imshow(gamma[2,:].cpu().detach().numpy().T, aspect='auto')\n",
    "plt.colorbar()"
   ]
  }
 ],
 "metadata": {
  "kernelspec": {
   "display_name": "py38_pytorch",
   "language": "python",
   "name": "python3"
  },
  "language_info": {
   "codemirror_mode": {
    "name": "ipython",
    "version": 3
   },
   "file_extension": ".py",
   "mimetype": "text/x-python",
   "name": "python",
   "nbconvert_exporter": "python",
   "pygments_lexer": "ipython3",
   "version": "3.8.16"
  },
  "orig_nbformat": 4
 },
 "nbformat": 4,
 "nbformat_minor": 2
}
